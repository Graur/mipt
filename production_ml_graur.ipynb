{
  "nbformat": 4,
  "nbformat_minor": 0,
  "metadata": {
    "colab": {
      "provenance": [],
      "authorship_tag": "ABX9TyO4AbI5zjfu1rqk1MKDyevy",
      "include_colab_link": true
    },
    "kernelspec": {
      "name": "python3",
      "display_name": "Python 3"
    },
    "language_info": {
      "name": "python"
    }
  },
  "cells": [
    {
      "cell_type": "markdown",
      "metadata": {
        "id": "view-in-github",
        "colab_type": "text"
      },
      "source": [
        "<a href=\"https://colab.research.google.com/github/Graur/mipt/blob/master/production_ml_graur.ipynb\" target=\"_parent\"><img src=\"https://colab.research.google.com/assets/colab-badge.svg\" alt=\"Open In Colab\"/></a>"
      ]
    },
    {
      "cell_type": "markdown",
      "source": [
        "## Домашняя работа №2: Финальное задание (исполнитель: Граур Андрей)\n",
        "\n",
        "### Описание задачи:\n",
        "\n",
        "Маркетинговые агенства хотят проводить успешные рекламные кампании, но рынок сложен, что требует оценивать эффективности разных вариантов, что обуславливает необходимость проведения АБ-тестирования.\n",
        "\n",
        "\n",
        "### Компании заинтересованы в ответах на два вопроса:\n",
        "\n",
        "1) Будет ли кампания успешной?\n",
        "2) Если кампания была успешной, насколько этот успех можно объяснить рекламой?\n",
        "Чтобы ответить на второй вопрос, мы обычно проводим A/B тестирование.\n",
        "\n",
        "Большинство людей будут видеть рекламу (экспериментальная группа). А небольшая часть людей (контрольная группа) вместо этого увидит объявление государственной службы (PSA) (или ничего) точно такого же размера и в том же месте, где обычно находится реклама.\n",
        "\n",
        "Идея задания состоит в том, чтобы проанализировать группы, выяснить, была ли реклама успешной, сколько компания может заработать на рекламе и является ли разница между группами статистически значимой.\n",
        "\n",
        "### Словарь данных:\n",
        "- user id: Идентификатор пользователя (уникальный).\n",
        "- test group: Если \"ad\", то человек видел рекламу, если \"psa\", то он видел только объявление государственной службы.\n",
        "- converted: Если человек купил продукт, то True, иначе False.\n",
        "- total ads: Количество рекламы, увиденной человеком.\n",
        "- most ads day: День, в который человек увидел наибольшее количество рекламы.\n",
        "- most ads hour: Час дня, в который человек увидел наибольшее количество рекламы.\n",
        "\n",
        "### Задачи:\n",
        "\n",
        "#### 1) Проанализируйте структуру данных и проведите их предобработку:\n",
        "- Исследуйте структуру данных;\n",
        "- Преобразуйте столбцы к необходимым типам данных.\n",
        "- Проверьте данные на наличие пропусков и избавьтесь от них, если нужно.\n",
        "- Проверьте, есть ли пользователи, которые в процессе A/B теста попали в обе группы. Если да, исключите пользователей, оказавшихся в обеих группах.\n",
        "\n",
        "#### 2) Сделайте первичный анализ результатов A/B-тестирования\n",
        "- Рассчитайте вспомогательные показатели для контрольной и тестовой групп:\n",
        "\n",
        " - количество посещений сайта;\n",
        " - суммарное количество совершённых покупок;\n",
        "\n",
        "Сделайте промежуточные выводы по построенной таблице. Сопоставимо ли количество посещений обоих вариантов посадочной страницы? Можно ли говорить о сбалансированности выборок?\n",
        "\n",
        "- В каждой из групп рассчитайте ключевые показатели:\n",
        "\n",
        " - конверсия;\n",
        " - среднее количество рекламы, увиденной пользователем.\n",
        "\n",
        "Сделайте первичные выводы о результатах A/B-тестирования на основе показателей конверсии и среднего количества увиденной рекламы в каждой из групп. По какому(-им) показателю(-ям), на первый взгляд, вариант А эффективнее варианта B и наоборот?\n",
        "\n",
        "#### 3) Проведите статистический анализ результатов A/B-тестирования\n",
        "\n",
        "- Сформулируйте статистические гипотезы, соответствующие поставленным бизнес-вопросам, и выберите статистический тест для их проверки.\n",
        "\n",
        "Не забудьте проверить данные на нормальность там, где это необходимо.\n",
        "\n",
        "- С помощью аппарата статистических тестов определите:\n",
        " - Есть ли статистическая разница между конверсиями в группах А и B?\n",
        " - Есть ли статистическая разница между средними количествами увиденной рекламы в группах А и B?\n",
        "\n",
        "- Подкрепите результаты статистических тестов, построив 95 % доверительные интервалы для:\n",
        " - конверсий в каждой из групп;\n",
        " - разницы конверсий в группах;\n",
        " - среднего количества увиденной рекламы в группах А и B.\n",
        "\n",
        "- Проинтерпретируйте построенные доверительные интервалы для конверсий и среднего количества увиденной рекламы группах. Есть ли перекрытие между доверительными интервалами для групп? Если есть, то о чём это говорит?"
      ],
      "metadata": {
        "id": "tYRvDom-6kpH"
      }
    },
    {
      "cell_type": "markdown",
      "source": [
        "### 1 Предобработка данных\n",
        "\n",
        "\n",
        "### 1.1 Скачаем необходимые нам билиотеки"
      ],
      "metadata": {
        "id": "jEU248gC6o1I"
      }
    },
    {
      "cell_type": "code",
      "execution_count": 13,
      "metadata": {
        "id": "f4ndzVtH50gB"
      },
      "outputs": [],
      "source": [
        "import numpy as np\n",
        "import pandas as pd\n",
        "\n",
        "import seaborn as sns\n",
        "import matplotlib.pyplot as plt\n",
        "%matplotlib inline"
      ]
    },
    {
      "cell_type": "markdown",
      "source": [
        "### 1.2 Скачаем датасет"
      ],
      "metadata": {
        "id": "PX6rPlIC7CP6"
      }
    },
    {
      "cell_type": "code",
      "source": [
        "path = '/content/data.zip'\n",
        "! wget https://lms.skillfactory.ru/asset-v1:SkillFactory+MFTIBIO+SEP2023+type@asset+block@AB-tests_HW.zip -O {path}"
      ],
      "metadata": {
        "colab": {
          "base_uri": "https://localhost:8080/"
        },
        "id": "faL16zHk7HzW",
        "outputId": "14dec67b-3010-41bc-eca5-f884fbaa932e"
      },
      "execution_count": 2,
      "outputs": [
        {
          "output_type": "stream",
          "name": "stdout",
          "text": [
            "--2023-12-24 13:06:53--  https://lms.skillfactory.ru/asset-v1:SkillFactory+MFTIBIO+SEP2023+type@asset+block@AB-tests_HW.zip\n",
            "Resolving lms.skillfactory.ru (lms.skillfactory.ru)... 51.250.7.2\n",
            "Connecting to lms.skillfactory.ru (lms.skillfactory.ru)|51.250.7.2|:443... connected.\n",
            "HTTP request sent, awaiting response... 200 OK\n",
            "Length: 5488727 (5.2M) [application/zip]\n",
            "Saving to: ‘/content/data.zip’\n",
            "\n",
            "/content/data.zip   100%[===================>]   5.23M  13.2MB/s    in 0.4s    \n",
            "\n",
            "2023-12-24 13:06:54 (13.2 MB/s) - ‘/content/data.zip’ saved [5488727/5488727]\n",
            "\n"
          ]
        }
      ]
    },
    {
      "cell_type": "code",
      "source": [
        "! unzip {path}"
      ],
      "metadata": {
        "colab": {
          "base_uri": "https://localhost:8080/"
        },
        "id": "6E-SqjDq8BfM",
        "outputId": "3c3859fb-3bf0-46dd-fe60-9ac72ca7374b"
      },
      "execution_count": 3,
      "outputs": [
        {
          "output_type": "stream",
          "name": "stdout",
          "text": [
            "Archive:  /content/data.zip\n",
            "  inflating: marketing_AB.csv        \n"
          ]
        }
      ]
    },
    {
      "cell_type": "markdown",
      "source": [
        "### 1.3 Проверим датасет и провалидируем его"
      ],
      "metadata": {
        "id": "5O0YU8CW76y0"
      }
    },
    {
      "cell_type": "code",
      "source": [
        "dataframe = pd.read_csv(\"marketing_AB.csv\")\n",
        "dataframe.head()"
      ],
      "metadata": {
        "colab": {
          "base_uri": "https://localhost:8080/",
          "height": 206
        },
        "id": "nTTqnSVu75Xb",
        "outputId": "d8b1daf6-d106-48f0-8c0d-08952a76c033"
      },
      "execution_count": 5,
      "outputs": [
        {
          "output_type": "execute_result",
          "data": {
            "text/plain": [
              "   Unnamed: 0  user id test group  converted  total ads most ads day  \\\n",
              "0           0  1069124         ad      False        130       Monday   \n",
              "1           1  1119715         ad      False         93      Tuesday   \n",
              "2           2  1144181         ad      False         21      Tuesday   \n",
              "3           3  1435133         ad      False        355      Tuesday   \n",
              "4           4  1015700         ad      False        276       Friday   \n",
              "\n",
              "   most ads hour  \n",
              "0             20  \n",
              "1             22  \n",
              "2             18  \n",
              "3             10  \n",
              "4             14  "
            ],
            "text/html": [
              "\n",
              "  <div id=\"df-fe1d5605-ba18-44cb-b308-619b0ddb8c52\" class=\"colab-df-container\">\n",
              "    <div>\n",
              "<style scoped>\n",
              "    .dataframe tbody tr th:only-of-type {\n",
              "        vertical-align: middle;\n",
              "    }\n",
              "\n",
              "    .dataframe tbody tr th {\n",
              "        vertical-align: top;\n",
              "    }\n",
              "\n",
              "    .dataframe thead th {\n",
              "        text-align: right;\n",
              "    }\n",
              "</style>\n",
              "<table border=\"1\" class=\"dataframe\">\n",
              "  <thead>\n",
              "    <tr style=\"text-align: right;\">\n",
              "      <th></th>\n",
              "      <th>Unnamed: 0</th>\n",
              "      <th>user id</th>\n",
              "      <th>test group</th>\n",
              "      <th>converted</th>\n",
              "      <th>total ads</th>\n",
              "      <th>most ads day</th>\n",
              "      <th>most ads hour</th>\n",
              "    </tr>\n",
              "  </thead>\n",
              "  <tbody>\n",
              "    <tr>\n",
              "      <th>0</th>\n",
              "      <td>0</td>\n",
              "      <td>1069124</td>\n",
              "      <td>ad</td>\n",
              "      <td>False</td>\n",
              "      <td>130</td>\n",
              "      <td>Monday</td>\n",
              "      <td>20</td>\n",
              "    </tr>\n",
              "    <tr>\n",
              "      <th>1</th>\n",
              "      <td>1</td>\n",
              "      <td>1119715</td>\n",
              "      <td>ad</td>\n",
              "      <td>False</td>\n",
              "      <td>93</td>\n",
              "      <td>Tuesday</td>\n",
              "      <td>22</td>\n",
              "    </tr>\n",
              "    <tr>\n",
              "      <th>2</th>\n",
              "      <td>2</td>\n",
              "      <td>1144181</td>\n",
              "      <td>ad</td>\n",
              "      <td>False</td>\n",
              "      <td>21</td>\n",
              "      <td>Tuesday</td>\n",
              "      <td>18</td>\n",
              "    </tr>\n",
              "    <tr>\n",
              "      <th>3</th>\n",
              "      <td>3</td>\n",
              "      <td>1435133</td>\n",
              "      <td>ad</td>\n",
              "      <td>False</td>\n",
              "      <td>355</td>\n",
              "      <td>Tuesday</td>\n",
              "      <td>10</td>\n",
              "    </tr>\n",
              "    <tr>\n",
              "      <th>4</th>\n",
              "      <td>4</td>\n",
              "      <td>1015700</td>\n",
              "      <td>ad</td>\n",
              "      <td>False</td>\n",
              "      <td>276</td>\n",
              "      <td>Friday</td>\n",
              "      <td>14</td>\n",
              "    </tr>\n",
              "  </tbody>\n",
              "</table>\n",
              "</div>\n",
              "    <div class=\"colab-df-buttons\">\n",
              "\n",
              "  <div class=\"colab-df-container\">\n",
              "    <button class=\"colab-df-convert\" onclick=\"convertToInteractive('df-fe1d5605-ba18-44cb-b308-619b0ddb8c52')\"\n",
              "            title=\"Convert this dataframe to an interactive table.\"\n",
              "            style=\"display:none;\">\n",
              "\n",
              "  <svg xmlns=\"http://www.w3.org/2000/svg\" height=\"24px\" viewBox=\"0 -960 960 960\">\n",
              "    <path d=\"M120-120v-720h720v720H120Zm60-500h600v-160H180v160Zm220 220h160v-160H400v160Zm0 220h160v-160H400v160ZM180-400h160v-160H180v160Zm440 0h160v-160H620v160ZM180-180h160v-160H180v160Zm440 0h160v-160H620v160Z\"/>\n",
              "  </svg>\n",
              "    </button>\n",
              "\n",
              "  <style>\n",
              "    .colab-df-container {\n",
              "      display:flex;\n",
              "      gap: 12px;\n",
              "    }\n",
              "\n",
              "    .colab-df-convert {\n",
              "      background-color: #E8F0FE;\n",
              "      border: none;\n",
              "      border-radius: 50%;\n",
              "      cursor: pointer;\n",
              "      display: none;\n",
              "      fill: #1967D2;\n",
              "      height: 32px;\n",
              "      padding: 0 0 0 0;\n",
              "      width: 32px;\n",
              "    }\n",
              "\n",
              "    .colab-df-convert:hover {\n",
              "      background-color: #E2EBFA;\n",
              "      box-shadow: 0px 1px 2px rgba(60, 64, 67, 0.3), 0px 1px 3px 1px rgba(60, 64, 67, 0.15);\n",
              "      fill: #174EA6;\n",
              "    }\n",
              "\n",
              "    .colab-df-buttons div {\n",
              "      margin-bottom: 4px;\n",
              "    }\n",
              "\n",
              "    [theme=dark] .colab-df-convert {\n",
              "      background-color: #3B4455;\n",
              "      fill: #D2E3FC;\n",
              "    }\n",
              "\n",
              "    [theme=dark] .colab-df-convert:hover {\n",
              "      background-color: #434B5C;\n",
              "      box-shadow: 0px 1px 3px 1px rgba(0, 0, 0, 0.15);\n",
              "      filter: drop-shadow(0px 1px 2px rgba(0, 0, 0, 0.3));\n",
              "      fill: #FFFFFF;\n",
              "    }\n",
              "  </style>\n",
              "\n",
              "    <script>\n",
              "      const buttonEl =\n",
              "        document.querySelector('#df-fe1d5605-ba18-44cb-b308-619b0ddb8c52 button.colab-df-convert');\n",
              "      buttonEl.style.display =\n",
              "        google.colab.kernel.accessAllowed ? 'block' : 'none';\n",
              "\n",
              "      async function convertToInteractive(key) {\n",
              "        const element = document.querySelector('#df-fe1d5605-ba18-44cb-b308-619b0ddb8c52');\n",
              "        const dataTable =\n",
              "          await google.colab.kernel.invokeFunction('convertToInteractive',\n",
              "                                                    [key], {});\n",
              "        if (!dataTable) return;\n",
              "\n",
              "        const docLinkHtml = 'Like what you see? Visit the ' +\n",
              "          '<a target=\"_blank\" href=https://colab.research.google.com/notebooks/data_table.ipynb>data table notebook</a>'\n",
              "          + ' to learn more about interactive tables.';\n",
              "        element.innerHTML = '';\n",
              "        dataTable['output_type'] = 'display_data';\n",
              "        await google.colab.output.renderOutput(dataTable, element);\n",
              "        const docLink = document.createElement('div');\n",
              "        docLink.innerHTML = docLinkHtml;\n",
              "        element.appendChild(docLink);\n",
              "      }\n",
              "    </script>\n",
              "  </div>\n",
              "\n",
              "\n",
              "<div id=\"df-93b513ec-ca04-495e-9760-bfc07e6939b5\">\n",
              "  <button class=\"colab-df-quickchart\" onclick=\"quickchart('df-93b513ec-ca04-495e-9760-bfc07e6939b5')\"\n",
              "            title=\"Suggest charts\"\n",
              "            style=\"display:none;\">\n",
              "\n",
              "<svg xmlns=\"http://www.w3.org/2000/svg\" height=\"24px\"viewBox=\"0 0 24 24\"\n",
              "     width=\"24px\">\n",
              "    <g>\n",
              "        <path d=\"M19 3H5c-1.1 0-2 .9-2 2v14c0 1.1.9 2 2 2h14c1.1 0 2-.9 2-2V5c0-1.1-.9-2-2-2zM9 17H7v-7h2v7zm4 0h-2V7h2v10zm4 0h-2v-4h2v4z\"/>\n",
              "    </g>\n",
              "</svg>\n",
              "  </button>\n",
              "\n",
              "<style>\n",
              "  .colab-df-quickchart {\n",
              "      --bg-color: #E8F0FE;\n",
              "      --fill-color: #1967D2;\n",
              "      --hover-bg-color: #E2EBFA;\n",
              "      --hover-fill-color: #174EA6;\n",
              "      --disabled-fill-color: #AAA;\n",
              "      --disabled-bg-color: #DDD;\n",
              "  }\n",
              "\n",
              "  [theme=dark] .colab-df-quickchart {\n",
              "      --bg-color: #3B4455;\n",
              "      --fill-color: #D2E3FC;\n",
              "      --hover-bg-color: #434B5C;\n",
              "      --hover-fill-color: #FFFFFF;\n",
              "      --disabled-bg-color: #3B4455;\n",
              "      --disabled-fill-color: #666;\n",
              "  }\n",
              "\n",
              "  .colab-df-quickchart {\n",
              "    background-color: var(--bg-color);\n",
              "    border: none;\n",
              "    border-radius: 50%;\n",
              "    cursor: pointer;\n",
              "    display: none;\n",
              "    fill: var(--fill-color);\n",
              "    height: 32px;\n",
              "    padding: 0;\n",
              "    width: 32px;\n",
              "  }\n",
              "\n",
              "  .colab-df-quickchart:hover {\n",
              "    background-color: var(--hover-bg-color);\n",
              "    box-shadow: 0 1px 2px rgba(60, 64, 67, 0.3), 0 1px 3px 1px rgba(60, 64, 67, 0.15);\n",
              "    fill: var(--button-hover-fill-color);\n",
              "  }\n",
              "\n",
              "  .colab-df-quickchart-complete:disabled,\n",
              "  .colab-df-quickchart-complete:disabled:hover {\n",
              "    background-color: var(--disabled-bg-color);\n",
              "    fill: var(--disabled-fill-color);\n",
              "    box-shadow: none;\n",
              "  }\n",
              "\n",
              "  .colab-df-spinner {\n",
              "    border: 2px solid var(--fill-color);\n",
              "    border-color: transparent;\n",
              "    border-bottom-color: var(--fill-color);\n",
              "    animation:\n",
              "      spin 1s steps(1) infinite;\n",
              "  }\n",
              "\n",
              "  @keyframes spin {\n",
              "    0% {\n",
              "      border-color: transparent;\n",
              "      border-bottom-color: var(--fill-color);\n",
              "      border-left-color: var(--fill-color);\n",
              "    }\n",
              "    20% {\n",
              "      border-color: transparent;\n",
              "      border-left-color: var(--fill-color);\n",
              "      border-top-color: var(--fill-color);\n",
              "    }\n",
              "    30% {\n",
              "      border-color: transparent;\n",
              "      border-left-color: var(--fill-color);\n",
              "      border-top-color: var(--fill-color);\n",
              "      border-right-color: var(--fill-color);\n",
              "    }\n",
              "    40% {\n",
              "      border-color: transparent;\n",
              "      border-right-color: var(--fill-color);\n",
              "      border-top-color: var(--fill-color);\n",
              "    }\n",
              "    60% {\n",
              "      border-color: transparent;\n",
              "      border-right-color: var(--fill-color);\n",
              "    }\n",
              "    80% {\n",
              "      border-color: transparent;\n",
              "      border-right-color: var(--fill-color);\n",
              "      border-bottom-color: var(--fill-color);\n",
              "    }\n",
              "    90% {\n",
              "      border-color: transparent;\n",
              "      border-bottom-color: var(--fill-color);\n",
              "    }\n",
              "  }\n",
              "</style>\n",
              "\n",
              "  <script>\n",
              "    async function quickchart(key) {\n",
              "      const quickchartButtonEl =\n",
              "        document.querySelector('#' + key + ' button');\n",
              "      quickchartButtonEl.disabled = true;  // To prevent multiple clicks.\n",
              "      quickchartButtonEl.classList.add('colab-df-spinner');\n",
              "      try {\n",
              "        const charts = await google.colab.kernel.invokeFunction(\n",
              "            'suggestCharts', [key], {});\n",
              "      } catch (error) {\n",
              "        console.error('Error during call to suggestCharts:', error);\n",
              "      }\n",
              "      quickchartButtonEl.classList.remove('colab-df-spinner');\n",
              "      quickchartButtonEl.classList.add('colab-df-quickchart-complete');\n",
              "    }\n",
              "    (() => {\n",
              "      let quickchartButtonEl =\n",
              "        document.querySelector('#df-93b513ec-ca04-495e-9760-bfc07e6939b5 button');\n",
              "      quickchartButtonEl.style.display =\n",
              "        google.colab.kernel.accessAllowed ? 'block' : 'none';\n",
              "    })();\n",
              "  </script>\n",
              "</div>\n",
              "    </div>\n",
              "  </div>\n"
            ]
          },
          "metadata": {},
          "execution_count": 5
        }
      ]
    },
    {
      "cell_type": "code",
      "source": [
        "dataframe.info()"
      ],
      "metadata": {
        "colab": {
          "base_uri": "https://localhost:8080/"
        },
        "id": "7M1VLnK3DLiQ",
        "outputId": "c64dc23b-4a29-4ab1-d8ed-afa993f1f7e1"
      },
      "execution_count": 6,
      "outputs": [
        {
          "output_type": "stream",
          "name": "stdout",
          "text": [
            "<class 'pandas.core.frame.DataFrame'>\n",
            "RangeIndex: 588101 entries, 0 to 588100\n",
            "Data columns (total 7 columns):\n",
            " #   Column         Non-Null Count   Dtype \n",
            "---  ------         --------------   ----- \n",
            " 0   Unnamed: 0     588101 non-null  int64 \n",
            " 1   user id        588101 non-null  int64 \n",
            " 2   test group     588101 non-null  object\n",
            " 3   converted      588101 non-null  bool  \n",
            " 4   total ads      588101 non-null  int64 \n",
            " 5   most ads day   588101 non-null  object\n",
            " 6   most ads hour  588101 non-null  int64 \n",
            "dtypes: bool(1), int64(4), object(2)\n",
            "memory usage: 27.5+ MB\n"
          ]
        }
      ]
    },
    {
      "cell_type": "code",
      "source": [
        "dataframe.describe(include=\"all\")\n"
      ],
      "metadata": {
        "colab": {
          "base_uri": "https://localhost:8080/",
          "height": 394
        },
        "id": "_wSXoSGnDg0C",
        "outputId": "189ee179-dbb2-4d62-cd3d-82e4d22666d1"
      },
      "execution_count": 7,
      "outputs": [
        {
          "output_type": "execute_result",
          "data": {
            "text/plain": [
              "           Unnamed: 0       user id test group converted      total ads  \\\n",
              "count   588101.000000  5.881010e+05     588101    588101  588101.000000   \n",
              "unique            NaN           NaN          2         2            NaN   \n",
              "top               NaN           NaN         ad     False            NaN   \n",
              "freq              NaN           NaN     564577    573258            NaN   \n",
              "mean    294050.000000  1.310692e+06        NaN       NaN      24.820876   \n",
              "std     169770.279668  2.022260e+05        NaN       NaN      43.715181   \n",
              "min          0.000000  9.000000e+05        NaN       NaN       1.000000   \n",
              "25%     147025.000000  1.143190e+06        NaN       NaN       4.000000   \n",
              "50%     294050.000000  1.313725e+06        NaN       NaN      13.000000   \n",
              "75%     441075.000000  1.484088e+06        NaN       NaN      27.000000   \n",
              "max     588100.000000  1.654483e+06        NaN       NaN    2065.000000   \n",
              "\n",
              "       most ads day  most ads hour  \n",
              "count        588101  588101.000000  \n",
              "unique            7            NaN  \n",
              "top          Friday            NaN  \n",
              "freq          92608            NaN  \n",
              "mean            NaN      14.469061  \n",
              "std             NaN       4.834634  \n",
              "min             NaN       0.000000  \n",
              "25%             NaN      11.000000  \n",
              "50%             NaN      14.000000  \n",
              "75%             NaN      18.000000  \n",
              "max             NaN      23.000000  "
            ],
            "text/html": [
              "\n",
              "  <div id=\"df-40de42e4-0140-42d9-afc7-06b68c28a3f3\" class=\"colab-df-container\">\n",
              "    <div>\n",
              "<style scoped>\n",
              "    .dataframe tbody tr th:only-of-type {\n",
              "        vertical-align: middle;\n",
              "    }\n",
              "\n",
              "    .dataframe tbody tr th {\n",
              "        vertical-align: top;\n",
              "    }\n",
              "\n",
              "    .dataframe thead th {\n",
              "        text-align: right;\n",
              "    }\n",
              "</style>\n",
              "<table border=\"1\" class=\"dataframe\">\n",
              "  <thead>\n",
              "    <tr style=\"text-align: right;\">\n",
              "      <th></th>\n",
              "      <th>Unnamed: 0</th>\n",
              "      <th>user id</th>\n",
              "      <th>test group</th>\n",
              "      <th>converted</th>\n",
              "      <th>total ads</th>\n",
              "      <th>most ads day</th>\n",
              "      <th>most ads hour</th>\n",
              "    </tr>\n",
              "  </thead>\n",
              "  <tbody>\n",
              "    <tr>\n",
              "      <th>count</th>\n",
              "      <td>588101.000000</td>\n",
              "      <td>5.881010e+05</td>\n",
              "      <td>588101</td>\n",
              "      <td>588101</td>\n",
              "      <td>588101.000000</td>\n",
              "      <td>588101</td>\n",
              "      <td>588101.000000</td>\n",
              "    </tr>\n",
              "    <tr>\n",
              "      <th>unique</th>\n",
              "      <td>NaN</td>\n",
              "      <td>NaN</td>\n",
              "      <td>2</td>\n",
              "      <td>2</td>\n",
              "      <td>NaN</td>\n",
              "      <td>7</td>\n",
              "      <td>NaN</td>\n",
              "    </tr>\n",
              "    <tr>\n",
              "      <th>top</th>\n",
              "      <td>NaN</td>\n",
              "      <td>NaN</td>\n",
              "      <td>ad</td>\n",
              "      <td>False</td>\n",
              "      <td>NaN</td>\n",
              "      <td>Friday</td>\n",
              "      <td>NaN</td>\n",
              "    </tr>\n",
              "    <tr>\n",
              "      <th>freq</th>\n",
              "      <td>NaN</td>\n",
              "      <td>NaN</td>\n",
              "      <td>564577</td>\n",
              "      <td>573258</td>\n",
              "      <td>NaN</td>\n",
              "      <td>92608</td>\n",
              "      <td>NaN</td>\n",
              "    </tr>\n",
              "    <tr>\n",
              "      <th>mean</th>\n",
              "      <td>294050.000000</td>\n",
              "      <td>1.310692e+06</td>\n",
              "      <td>NaN</td>\n",
              "      <td>NaN</td>\n",
              "      <td>24.820876</td>\n",
              "      <td>NaN</td>\n",
              "      <td>14.469061</td>\n",
              "    </tr>\n",
              "    <tr>\n",
              "      <th>std</th>\n",
              "      <td>169770.279668</td>\n",
              "      <td>2.022260e+05</td>\n",
              "      <td>NaN</td>\n",
              "      <td>NaN</td>\n",
              "      <td>43.715181</td>\n",
              "      <td>NaN</td>\n",
              "      <td>4.834634</td>\n",
              "    </tr>\n",
              "    <tr>\n",
              "      <th>min</th>\n",
              "      <td>0.000000</td>\n",
              "      <td>9.000000e+05</td>\n",
              "      <td>NaN</td>\n",
              "      <td>NaN</td>\n",
              "      <td>1.000000</td>\n",
              "      <td>NaN</td>\n",
              "      <td>0.000000</td>\n",
              "    </tr>\n",
              "    <tr>\n",
              "      <th>25%</th>\n",
              "      <td>147025.000000</td>\n",
              "      <td>1.143190e+06</td>\n",
              "      <td>NaN</td>\n",
              "      <td>NaN</td>\n",
              "      <td>4.000000</td>\n",
              "      <td>NaN</td>\n",
              "      <td>11.000000</td>\n",
              "    </tr>\n",
              "    <tr>\n",
              "      <th>50%</th>\n",
              "      <td>294050.000000</td>\n",
              "      <td>1.313725e+06</td>\n",
              "      <td>NaN</td>\n",
              "      <td>NaN</td>\n",
              "      <td>13.000000</td>\n",
              "      <td>NaN</td>\n",
              "      <td>14.000000</td>\n",
              "    </tr>\n",
              "    <tr>\n",
              "      <th>75%</th>\n",
              "      <td>441075.000000</td>\n",
              "      <td>1.484088e+06</td>\n",
              "      <td>NaN</td>\n",
              "      <td>NaN</td>\n",
              "      <td>27.000000</td>\n",
              "      <td>NaN</td>\n",
              "      <td>18.000000</td>\n",
              "    </tr>\n",
              "    <tr>\n",
              "      <th>max</th>\n",
              "      <td>588100.000000</td>\n",
              "      <td>1.654483e+06</td>\n",
              "      <td>NaN</td>\n",
              "      <td>NaN</td>\n",
              "      <td>2065.000000</td>\n",
              "      <td>NaN</td>\n",
              "      <td>23.000000</td>\n",
              "    </tr>\n",
              "  </tbody>\n",
              "</table>\n",
              "</div>\n",
              "    <div class=\"colab-df-buttons\">\n",
              "\n",
              "  <div class=\"colab-df-container\">\n",
              "    <button class=\"colab-df-convert\" onclick=\"convertToInteractive('df-40de42e4-0140-42d9-afc7-06b68c28a3f3')\"\n",
              "            title=\"Convert this dataframe to an interactive table.\"\n",
              "            style=\"display:none;\">\n",
              "\n",
              "  <svg xmlns=\"http://www.w3.org/2000/svg\" height=\"24px\" viewBox=\"0 -960 960 960\">\n",
              "    <path d=\"M120-120v-720h720v720H120Zm60-500h600v-160H180v160Zm220 220h160v-160H400v160Zm0 220h160v-160H400v160ZM180-400h160v-160H180v160Zm440 0h160v-160H620v160ZM180-180h160v-160H180v160Zm440 0h160v-160H620v160Z\"/>\n",
              "  </svg>\n",
              "    </button>\n",
              "\n",
              "  <style>\n",
              "    .colab-df-container {\n",
              "      display:flex;\n",
              "      gap: 12px;\n",
              "    }\n",
              "\n",
              "    .colab-df-convert {\n",
              "      background-color: #E8F0FE;\n",
              "      border: none;\n",
              "      border-radius: 50%;\n",
              "      cursor: pointer;\n",
              "      display: none;\n",
              "      fill: #1967D2;\n",
              "      height: 32px;\n",
              "      padding: 0 0 0 0;\n",
              "      width: 32px;\n",
              "    }\n",
              "\n",
              "    .colab-df-convert:hover {\n",
              "      background-color: #E2EBFA;\n",
              "      box-shadow: 0px 1px 2px rgba(60, 64, 67, 0.3), 0px 1px 3px 1px rgba(60, 64, 67, 0.15);\n",
              "      fill: #174EA6;\n",
              "    }\n",
              "\n",
              "    .colab-df-buttons div {\n",
              "      margin-bottom: 4px;\n",
              "    }\n",
              "\n",
              "    [theme=dark] .colab-df-convert {\n",
              "      background-color: #3B4455;\n",
              "      fill: #D2E3FC;\n",
              "    }\n",
              "\n",
              "    [theme=dark] .colab-df-convert:hover {\n",
              "      background-color: #434B5C;\n",
              "      box-shadow: 0px 1px 3px 1px rgba(0, 0, 0, 0.15);\n",
              "      filter: drop-shadow(0px 1px 2px rgba(0, 0, 0, 0.3));\n",
              "      fill: #FFFFFF;\n",
              "    }\n",
              "  </style>\n",
              "\n",
              "    <script>\n",
              "      const buttonEl =\n",
              "        document.querySelector('#df-40de42e4-0140-42d9-afc7-06b68c28a3f3 button.colab-df-convert');\n",
              "      buttonEl.style.display =\n",
              "        google.colab.kernel.accessAllowed ? 'block' : 'none';\n",
              "\n",
              "      async function convertToInteractive(key) {\n",
              "        const element = document.querySelector('#df-40de42e4-0140-42d9-afc7-06b68c28a3f3');\n",
              "        const dataTable =\n",
              "          await google.colab.kernel.invokeFunction('convertToInteractive',\n",
              "                                                    [key], {});\n",
              "        if (!dataTable) return;\n",
              "\n",
              "        const docLinkHtml = 'Like what you see? Visit the ' +\n",
              "          '<a target=\"_blank\" href=https://colab.research.google.com/notebooks/data_table.ipynb>data table notebook</a>'\n",
              "          + ' to learn more about interactive tables.';\n",
              "        element.innerHTML = '';\n",
              "        dataTable['output_type'] = 'display_data';\n",
              "        await google.colab.output.renderOutput(dataTable, element);\n",
              "        const docLink = document.createElement('div');\n",
              "        docLink.innerHTML = docLinkHtml;\n",
              "        element.appendChild(docLink);\n",
              "      }\n",
              "    </script>\n",
              "  </div>\n",
              "\n",
              "\n",
              "<div id=\"df-54d1a8ed-2a20-4093-8430-c0c991e4b908\">\n",
              "  <button class=\"colab-df-quickchart\" onclick=\"quickchart('df-54d1a8ed-2a20-4093-8430-c0c991e4b908')\"\n",
              "            title=\"Suggest charts\"\n",
              "            style=\"display:none;\">\n",
              "\n",
              "<svg xmlns=\"http://www.w3.org/2000/svg\" height=\"24px\"viewBox=\"0 0 24 24\"\n",
              "     width=\"24px\">\n",
              "    <g>\n",
              "        <path d=\"M19 3H5c-1.1 0-2 .9-2 2v14c0 1.1.9 2 2 2h14c1.1 0 2-.9 2-2V5c0-1.1-.9-2-2-2zM9 17H7v-7h2v7zm4 0h-2V7h2v10zm4 0h-2v-4h2v4z\"/>\n",
              "    </g>\n",
              "</svg>\n",
              "  </button>\n",
              "\n",
              "<style>\n",
              "  .colab-df-quickchart {\n",
              "      --bg-color: #E8F0FE;\n",
              "      --fill-color: #1967D2;\n",
              "      --hover-bg-color: #E2EBFA;\n",
              "      --hover-fill-color: #174EA6;\n",
              "      --disabled-fill-color: #AAA;\n",
              "      --disabled-bg-color: #DDD;\n",
              "  }\n",
              "\n",
              "  [theme=dark] .colab-df-quickchart {\n",
              "      --bg-color: #3B4455;\n",
              "      --fill-color: #D2E3FC;\n",
              "      --hover-bg-color: #434B5C;\n",
              "      --hover-fill-color: #FFFFFF;\n",
              "      --disabled-bg-color: #3B4455;\n",
              "      --disabled-fill-color: #666;\n",
              "  }\n",
              "\n",
              "  .colab-df-quickchart {\n",
              "    background-color: var(--bg-color);\n",
              "    border: none;\n",
              "    border-radius: 50%;\n",
              "    cursor: pointer;\n",
              "    display: none;\n",
              "    fill: var(--fill-color);\n",
              "    height: 32px;\n",
              "    padding: 0;\n",
              "    width: 32px;\n",
              "  }\n",
              "\n",
              "  .colab-df-quickchart:hover {\n",
              "    background-color: var(--hover-bg-color);\n",
              "    box-shadow: 0 1px 2px rgba(60, 64, 67, 0.3), 0 1px 3px 1px rgba(60, 64, 67, 0.15);\n",
              "    fill: var(--button-hover-fill-color);\n",
              "  }\n",
              "\n",
              "  .colab-df-quickchart-complete:disabled,\n",
              "  .colab-df-quickchart-complete:disabled:hover {\n",
              "    background-color: var(--disabled-bg-color);\n",
              "    fill: var(--disabled-fill-color);\n",
              "    box-shadow: none;\n",
              "  }\n",
              "\n",
              "  .colab-df-spinner {\n",
              "    border: 2px solid var(--fill-color);\n",
              "    border-color: transparent;\n",
              "    border-bottom-color: var(--fill-color);\n",
              "    animation:\n",
              "      spin 1s steps(1) infinite;\n",
              "  }\n",
              "\n",
              "  @keyframes spin {\n",
              "    0% {\n",
              "      border-color: transparent;\n",
              "      border-bottom-color: var(--fill-color);\n",
              "      border-left-color: var(--fill-color);\n",
              "    }\n",
              "    20% {\n",
              "      border-color: transparent;\n",
              "      border-left-color: var(--fill-color);\n",
              "      border-top-color: var(--fill-color);\n",
              "    }\n",
              "    30% {\n",
              "      border-color: transparent;\n",
              "      border-left-color: var(--fill-color);\n",
              "      border-top-color: var(--fill-color);\n",
              "      border-right-color: var(--fill-color);\n",
              "    }\n",
              "    40% {\n",
              "      border-color: transparent;\n",
              "      border-right-color: var(--fill-color);\n",
              "      border-top-color: var(--fill-color);\n",
              "    }\n",
              "    60% {\n",
              "      border-color: transparent;\n",
              "      border-right-color: var(--fill-color);\n",
              "    }\n",
              "    80% {\n",
              "      border-color: transparent;\n",
              "      border-right-color: var(--fill-color);\n",
              "      border-bottom-color: var(--fill-color);\n",
              "    }\n",
              "    90% {\n",
              "      border-color: transparent;\n",
              "      border-bottom-color: var(--fill-color);\n",
              "    }\n",
              "  }\n",
              "</style>\n",
              "\n",
              "  <script>\n",
              "    async function quickchart(key) {\n",
              "      const quickchartButtonEl =\n",
              "        document.querySelector('#' + key + ' button');\n",
              "      quickchartButtonEl.disabled = true;  // To prevent multiple clicks.\n",
              "      quickchartButtonEl.classList.add('colab-df-spinner');\n",
              "      try {\n",
              "        const charts = await google.colab.kernel.invokeFunction(\n",
              "            'suggestCharts', [key], {});\n",
              "      } catch (error) {\n",
              "        console.error('Error during call to suggestCharts:', error);\n",
              "      }\n",
              "      quickchartButtonEl.classList.remove('colab-df-spinner');\n",
              "      quickchartButtonEl.classList.add('colab-df-quickchart-complete');\n",
              "    }\n",
              "    (() => {\n",
              "      let quickchartButtonEl =\n",
              "        document.querySelector('#df-54d1a8ed-2a20-4093-8430-c0c991e4b908 button');\n",
              "      quickchartButtonEl.style.display =\n",
              "        google.colab.kernel.accessAllowed ? 'block' : 'none';\n",
              "    })();\n",
              "  </script>\n",
              "</div>\n",
              "    </div>\n",
              "  </div>\n"
            ]
          },
          "metadata": {},
          "execution_count": 7
        }
      ]
    },
    {
      "cell_type": "markdown",
      "source": [
        "#### Промежуточные вывод: У нас есть 6 различных фич, некоторые из них имеют тип int, 2 функции являются строками, а преобразованная функция имеет логический тип. Так же есть фича Unnamed, которая похоже не несет никакой смысловой нагрузки и от которой можно избавиться при очистке данных."
      ],
      "metadata": {
        "id": "ZlXplyRZDjQC"
      }
    },
    {
      "cell_type": "code",
      "source": [
        "dataframe.shape"
      ],
      "metadata": {
        "colab": {
          "base_uri": "https://localhost:8080/"
        },
        "id": "BPRDhKTbDn8l",
        "outputId": "e0c7b760-538b-4f50-926c-d1b3d0fa1d69"
      },
      "execution_count": 8,
      "outputs": [
        {
          "output_type": "execute_result",
          "data": {
            "text/plain": [
              "(588101, 7)"
            ]
          },
          "metadata": {},
          "execution_count": 8
        }
      ]
    },
    {
      "cell_type": "code",
      "source": [
        "dataframe.columns"
      ],
      "metadata": {
        "colab": {
          "base_uri": "https://localhost:8080/"
        },
        "id": "KY30eXmFEi6v",
        "outputId": "185e566c-2c38-4c6f-888d-bda6e41de1c0"
      },
      "execution_count": 9,
      "outputs": [
        {
          "output_type": "execute_result",
          "data": {
            "text/plain": [
              "Index(['Unnamed: 0', 'user id', 'test group', 'converted', 'total ads',\n",
              "       'most ads day', 'most ads hour'],\n",
              "      dtype='object')"
            ]
          },
          "metadata": {},
          "execution_count": 9
        }
      ]
    },
    {
      "cell_type": "markdown",
      "source": [
        "### 1.4 Очистка данных"
      ],
      "metadata": {
        "id": "e3m9KSWXEsdq"
      }
    },
    {
      "cell_type": "code",
      "source": [
        "print(\"Is NA?\")\n",
        "print(dataframe.isna().sum())\n",
        "print(\"Is NULL?\")\n",
        "print(dataframe.isnull().sum())"
      ],
      "metadata": {
        "colab": {
          "base_uri": "https://localhost:8080/"
        },
        "id": "2UHS_m1bEwIG",
        "outputId": "e4cf841b-f4a2-4326-9a55-2c7f6f5116b9"
      },
      "execution_count": 10,
      "outputs": [
        {
          "output_type": "stream",
          "name": "stdout",
          "text": [
            "Is NA?\n",
            "Unnamed: 0       0\n",
            "user id          0\n",
            "test group       0\n",
            "converted        0\n",
            "total ads        0\n",
            "most ads day     0\n",
            "most ads hour    0\n",
            "dtype: int64\n",
            "Is NULL?\n",
            "Unnamed: 0       0\n",
            "user id          0\n",
            "test group       0\n",
            "converted        0\n",
            "total ads        0\n",
            "most ads day     0\n",
            "most ads hour    0\n",
            "dtype: int64\n"
          ]
        }
      ]
    },
    {
      "cell_type": "code",
      "source": [
        "# Как описывал выше, удалим колонку Unnamed\n",
        "dataframe.drop('Unnamed: 0', axis=1, inplace=True)"
      ],
      "metadata": {
        "id": "uuhu7HyFFNX1"
      },
      "execution_count": 12,
      "outputs": []
    },
    {
      "cell_type": "code",
      "source": [
        "# Изменим тип данных данной колнки\n",
        "dataframe[\"converted\"] = np.where(dataframe[\"converted\"]==True, 1, 0)\n"
      ],
      "metadata": {
        "id": "LQSJhpi-FnH1"
      },
      "execution_count": 14,
      "outputs": []
    },
    {
      "cell_type": "code",
      "source": [
        "dataframe.duplicated().sum()"
      ],
      "metadata": {
        "colab": {
          "base_uri": "https://localhost:8080/"
        },
        "id": "RgEvfM6LE-DT",
        "outputId": "7b81f530-894b-43dc-ac1d-a296e8e39e92"
      },
      "execution_count": 19,
      "outputs": [
        {
          "output_type": "execute_result",
          "data": {
            "text/plain": [
              "0"
            ]
          },
          "metadata": {},
          "execution_count": 19
        }
      ]
    },
    {
      "cell_type": "code",
      "source": [
        "dataframe[dataframe[\"user id\"].duplicated()].count()"
      ],
      "metadata": {
        "colab": {
          "base_uri": "https://localhost:8080/"
        },
        "id": "R-e5K9BqH9i9",
        "outputId": "884f5360-106f-42b1-ca95-1d5414cd677a"
      },
      "execution_count": 21,
      "outputs": [
        {
          "output_type": "execute_result",
          "data": {
            "text/plain": [
              "user id          0\n",
              "test group       0\n",
              "converted        0\n",
              "total ads        0\n",
              "most ads day     0\n",
              "most ads hour    0\n",
              "dtype: int64"
            ]
          },
          "metadata": {},
          "execution_count": 21
        }
      ]
    },
    {
      "cell_type": "markdown",
      "source": [
        "#### Промежуточный вывод: Набор данных не содержит повторяющихся строк, а это значит, что нам не придется выполнять сложные процедуры очистки данных."
      ],
      "metadata": {
        "id": "Xdn0cHLjGElG"
      }
    },
    {
      "cell_type": "code",
      "source": [
        "dataframe.isnull().any()"
      ],
      "metadata": {
        "colab": {
          "base_uri": "https://localhost:8080/"
        },
        "id": "9e--xjpwIPK4",
        "outputId": "75497f72-fe03-4be9-e243-0ed2fc5bfd3f"
      },
      "execution_count": 23,
      "outputs": [
        {
          "output_type": "execute_result",
          "data": {
            "text/plain": [
              "user id          False\n",
              "test group       False\n",
              "converted        False\n",
              "total ads        False\n",
              "most ads day     False\n",
              "most ads hour    False\n",
              "dtype: bool"
            ]
          },
          "metadata": {},
          "execution_count": 23
        }
      ]
    },
    {
      "cell_type": "markdown",
      "source": [
        "### 2. EDA"
      ],
      "metadata": {
        "id": "c3_t2OUjGIKj"
      }
    },
    {
      "cell_type": "code",
      "source": [
        "print(dataframe[\"test group\"].value_counts())\n",
        "\n",
        "ax = dataframe[\"test group\"].value_counts().plot(kind=\"pie\")\n",
        "ax.set_title('Круговая диаграмма просмотров различных маркетинговых кампаний')\n",
        "plt.show()"
      ],
      "metadata": {
        "colab": {
          "base_uri": "https://localhost:8080/",
          "height": 482
        },
        "id": "9g6kiwGEIidS",
        "outputId": "3bf1ca66-de3d-45a6-9aa2-65a9d62fe90d"
      },
      "execution_count": 24,
      "outputs": [
        {
          "output_type": "stream",
          "name": "stdout",
          "text": [
            "ad     564577\n",
            "psa     23524\n",
            "Name: test group, dtype: int64\n"
          ]
        },
        {
          "output_type": "display_data",
          "data": {
            "text/plain": [
              "<Figure size 640x480 with 1 Axes>"
            ],
            "image/png": "[encoded data removed]"
          },
          "metadata": {}
        }
      ]
    },
    {
      "cell_type": "code",
      "source": [
        "def val_count(column):\n",
        "    plt.figure(figsize=(7,5))\n",
        "    sns.countplot(data=dataframe, x=column)\n",
        "    plt.title(f'Количество - {column}')\n",
        "    plt.show()\n",
        "\n",
        "col_lst = dataframe.columns[[1,2,4,5]]\n",
        "\n",
        "for i in col_lst:\n",
        "    val_count(i)"
      ],
      "metadata": {
        "colab": {
          "base_uri": "https://localhost:8080/",
          "height": 1000
        },
        "id": "S9a1HylVIqhv",
        "outputId": "4aa9203b-0001-44c8-e44f-9a3f6ee61c15"
      },
      "execution_count": 25,
      "outputs": [
        {
          "output_type": "display_data",
          "data": {
            "text/plain": [
              "<Figure size 700x500 with 1 Axes>"
            ],
            "image/png": "[encoded data removed]"
          },
          "metadata": {}
        },
        {
          "output_type": "display_data",
          "data": {
            "text/plain": [
              "<Figure size 700x500 with 1 Axes>"
            ],
            "image/png": "[encoded data removed]"
          },
          "metadata": {}
        },
        {
          "output_type": "display_data",
          "data": {
            "text/plain": [
              "<Figure size 700x500 with 1 Axes>"
            ],
            "image/png": "[encoded data removed]"
          },
          "metadata": {}
        },
        {
          "output_type": "display_data",
          "data": {
            "text/plain": [
              "<Figure size 700x500 with 1 Axes>"
            ],
            "image/png": "[encoded data removed]"
          },
          "metadata": {}
        }
      ]
    },
    {
      "cell_type": "markdown",
      "source": [
        "#### Промежуточный вывод: большинство пользователей видели рекламу (их больше чем тех, кто видел объявление государственной службы). Больше всего рекламы, просмотренной пользователем, произошло в пятницу, а затем в понедельник. С 10:00 до 15:00 пользователи видели больше всего рекламы"
      ],
      "metadata": {
        "id": "xTe28eGmJBPH"
      }
    },
    {
      "cell_type": "code",
      "source": [
        "print(\"% Not converted\", 100 * dataframe[\"converted\"].value_counts()[0]/dataframe[\"converted\"].value_counts().sum())\n",
        "print(\"% Converted\", 100 * dataframe[\"converted\"].value_counts()[1]/dataframe[\"converted\"].value_counts().sum())\n",
        "\n",
        "ax = dataframe[\"converted\"].value_counts().plot(kind=\"pie\")\n",
        "ax.set_title('Converted piechart')\n",
        "plt.show()"
      ],
      "metadata": {
        "colab": {
          "base_uri": "https://localhost:8080/",
          "height": 464
        },
        "id": "al9LJe1eI68i",
        "outputId": "e41f45e0-fc7b-4201-d5a5-58b37406fcc8"
      },
      "execution_count": 26,
      "outputs": [
        {
          "output_type": "stream",
          "name": "stdout",
          "text": [
            "% Not converted 97.4761137967798\n",
            "% Converted 2.523886203220195\n"
          ]
        },
        {
          "output_type": "display_data",
          "data": {
            "text/plain": [
              "<Figure size 640x480 with 1 Axes>"
            ],
            "image/png": "[encoded data removed]"
          },
          "metadata": {}
        }
      ]
    },
    {
      "cell_type": "code",
      "source": [
        "grouped_counts = dataframe.groupby('test group')['converted'].value_counts()\n",
        "grouped_counts\n",
        "\n",
        "# Plot the data as a pie chart\n",
        "grouped_counts.plot.pie(figsize= (3,3),autopct='%1.1f%%')\n",
        "\n",
        "# Set the title and axis labels\n",
        "plt.title('Distribution of Converted by Test Group')\n",
        "plt.ylabel('')\n",
        "\n",
        "# Show the plot\n",
        "plt.show()"
      ],
      "metadata": {
        "colab": {
          "base_uri": "https://localhost:8080/",
          "height": 290
        },
        "id": "UaRo7OcpKCH7",
        "outputId": "e21fb208-844c-415f-cb1f-78c6913c2613"
      },
      "execution_count": 28,
      "outputs": [
        {
          "output_type": "display_data",
          "data": {
            "text/plain": [
              "<Figure size 300x300 with 1 Axes>"
            ],
            "image/png": "[encoded data removed]"
          },
          "metadata": {}
        }
      ]
    },
    {
      "cell_type": "markdown",
      "source": [
        "### 3. Расчет конверсии"
      ],
      "metadata": {
        "id": "onu_wNcpS_9-"
      }
    },
    {
      "cell_type": "code",
      "source": [
        "dataframe.groupby(\"test group\")[\"converted\"].mean()*100"
      ],
      "metadata": {
        "colab": {
          "base_uri": "https://localhost:8080/"
        },
        "id": "VirdoE_IKQwd",
        "outputId": "c070ef5b-ad3b-4d97-badf-99bc754a029d"
      },
      "execution_count": 29,
      "outputs": [
        {
          "output_type": "execute_result",
          "data": {
            "text/plain": [
              "test group\n",
              "ad     2.554656\n",
              "psa    1.785411\n",
              "Name: converted, dtype: float64"
            ]
          },
          "metadata": {},
          "execution_count": 29
        }
      ]
    },
    {
      "cell_type": "code",
      "source": [
        "df_day_conv = pd.DataFrame(dataframe.groupby('most ads day')['converted'].mean())\n",
        "df_day_conv.reset_index(inplace=True)\n",
        "\n",
        "plt.figure(figsize=(5,3))\n",
        "plt.bar(data=df_day_conv, x='most ads day', height='converted')\n",
        "plt.title('Коэффициент конверсии по дням')\n",
        "plt.axhline(dataframe['converted'].mean(), color='r', linestyle='--', label='average')\n",
        "plt.legend()\n",
        "plt.show()"
      ],
      "metadata": {
        "colab": {
          "base_uri": "https://localhost:8080/",
          "height": 314
        },
        "id": "Q-khwqkOKfer",
        "outputId": "1059b94e-cb52-477f-a0c8-87ba2b299615"
      },
      "execution_count": 32,
      "outputs": [
        {
          "output_type": "display_data",
          "data": {
            "text/plain": [
              "<Figure size 500x300 with 1 Axes>"
            ],
            "image/png": "[encoded data removed]"
          },
          "metadata": {}
        }
      ]
    },
    {
      "cell_type": "markdown",
      "source": [
        "#### Промежуточый вывод: Из этих коэффициентов конверсии можно сделать вывод, что группа рекламы достигла более высокого коэффициента конверсии (2,5547%) по сравнению с группой PSA (1,7854%). Это указывает на то, что рекламные объявления успешно генерировали конверсии и вся рекламная кампания была эффективной."
      ],
      "metadata": {
        "id": "0vEiOLb5Kuif"
      }
    },
    {
      "cell_type": "markdown",
      "source": [
        "### 4. А/B тестирование"
      ],
      "metadata": {
        "id": "e81nytdbLB05"
      }
    },
    {
      "cell_type": "code",
      "source": [
        "import math\n",
        "\n",
        "def sample_size_calculator(population_size, confidence_level, margin_of_error):\n",
        "    z_score = {\n",
        "        0.90: 1.645,\n",
        "        0.95: 1.96,\n",
        "        0.99: 2.576\n",
        "    }\n",
        "\n",
        "    z = z_score[confidence_level]\n",
        "    p = 0.5 # предположим 50%\n",
        "    q = 1 - p\n",
        "\n",
        "    sample_size = ((z**2) * p * q * population_size) / ((z**2 * q) + ((margin_of_error**2) * (population_size - 1)))\n",
        "    return math.ceil(sample_size)\n",
        "\n",
        "pop_size = dataframe.shape[0]\n",
        "conf_level = 0.99\n",
        "margin_err = 0.03\n",
        "\n",
        "sample_size = sample_size_calculator(pop_size, conf_level, margin_err)\n",
        "print(f\"Размер выборки: {pop_size}\")\n",
        "print(f\"Необходимый разме выборки: {sample_size}\")"
      ],
      "metadata": {
        "colab": {
          "base_uri": "https://localhost:8080/"
        },
        "id": "eE2QbRyCLSrH",
        "outputId": "9370bb3f-a22a-4cc1-868e-00f49ec28eec"
      },
      "execution_count": 36,
      "outputs": [
        {
          "output_type": "stream",
          "name": "stdout",
          "text": [
            "Размер выборки: 588101\n",
            "Необходимый разме выборки: 1832\n"
          ]
        }
      ]
    },
    {
      "cell_type": "code",
      "source": [
        "# Для запросов нам необходимо привести название колонок к единому виду с нижним почеркиванием\n",
        "dataframe.rename(columns=lambda x: x.strip().replace(\" \", \"_\"), inplace=True)\n",
        "dataframe.head(1)"
      ],
      "metadata": {
        "colab": {
          "base_uri": "https://localhost:8080/",
          "height": 81
        },
        "id": "Fs7LX0OVMgeL",
        "outputId": "f71af725-1ec2-48fb-8d8d-87e76aa24f96"
      },
      "execution_count": 40,
      "outputs": [
        {
          "output_type": "execute_result",
          "data": {
            "text/plain": [
              "   user_id test_group  converted  total_ads most_ads_day  most_ads_hour\n",
              "0  1069124         ad          0        130       Monday             20"
            ],
            "text/html": [
              "\n",
              "  <div id=\"df-1d2c4737-13f5-4a4f-b993-d4fac04eb03b\" class=\"colab-df-container\">\n",
              "    <div>\n",
              "<style scoped>\n",
              "    .dataframe tbody tr th:only-of-type {\n",
              "        vertical-align: middle;\n",
              "    }\n",
              "\n",
              "    .dataframe tbody tr th {\n",
              "        vertical-align: top;\n",
              "    }\n",
              "\n",
              "    .dataframe thead th {\n",
              "        text-align: right;\n",
              "    }\n",
              "</style>\n",
              "<table border=\"1\" class=\"dataframe\">\n",
              "  <thead>\n",
              "    <tr style=\"text-align: right;\">\n",
              "      <th></th>\n",
              "      <th>user_id</th>\n",
              "      <th>test_group</th>\n",
              "      <th>converted</th>\n",
              "      <th>total_ads</th>\n",
              "      <th>most_ads_day</th>\n",
              "      <th>most_ads_hour</th>\n",
              "    </tr>\n",
              "  </thead>\n",
              "  <tbody>\n",
              "    <tr>\n",
              "      <th>0</th>\n",
              "      <td>1069124</td>\n",
              "      <td>ad</td>\n",
              "      <td>0</td>\n",
              "      <td>130</td>\n",
              "      <td>Monday</td>\n",
              "      <td>20</td>\n",
              "    </tr>\n",
              "  </tbody>\n",
              "</table>\n",
              "</div>\n",
              "    <div class=\"colab-df-buttons\">\n",
              "\n",
              "  <div class=\"colab-df-container\">\n",
              "    <button class=\"colab-df-convert\" onclick=\"convertToInteractive('df-1d2c4737-13f5-4a4f-b993-d4fac04eb03b')\"\n",
              "            title=\"Convert this dataframe to an interactive table.\"\n",
              "            style=\"display:none;\">\n",
              "\n",
              "  <svg xmlns=\"http://www.w3.org/2000/svg\" height=\"24px\" viewBox=\"0 -960 960 960\">\n",
              "    <path d=\"M120-120v-720h720v720H120Zm60-500h600v-160H180v160Zm220 220h160v-160H400v160Zm0 220h160v-160H400v160ZM180-400h160v-160H180v160Zm440 0h160v-160H620v160ZM180-180h160v-160H180v160Zm440 0h160v-160H620v160Z\"/>\n",
              "  </svg>\n",
              "    </button>\n",
              "\n",
              "  <style>\n",
              "    .colab-df-container {\n",
              "      display:flex;\n",
              "      gap: 12px;\n",
              "    }\n",
              "\n",
              "    .colab-df-convert {\n",
              "      background-color: #E8F0FE;\n",
              "      border: none;\n",
              "      border-radius: 50%;\n",
              "      cursor: pointer;\n",
              "      display: none;\n",
              "      fill: #1967D2;\n",
              "      height: 32px;\n",
              "      padding: 0 0 0 0;\n",
              "      width: 32px;\n",
              "    }\n",
              "\n",
              "    .colab-df-convert:hover {\n",
              "      background-color: #E2EBFA;\n",
              "      box-shadow: 0px 1px 2px rgba(60, 64, 67, 0.3), 0px 1px 3px 1px rgba(60, 64, 67, 0.15);\n",
              "      fill: #174EA6;\n",
              "    }\n",
              "\n",
              "    .colab-df-buttons div {\n",
              "      margin-bottom: 4px;\n",
              "    }\n",
              "\n",
              "    [theme=dark] .colab-df-convert {\n",
              "      background-color: #3B4455;\n",
              "      fill: #D2E3FC;\n",
              "    }\n",
              "\n",
              "    [theme=dark] .colab-df-convert:hover {\n",
              "      background-color: #434B5C;\n",
              "      box-shadow: 0px 1px 3px 1px rgba(0, 0, 0, 0.15);\n",
              "      filter: drop-shadow(0px 1px 2px rgba(0, 0, 0, 0.3));\n",
              "      fill: #FFFFFF;\n",
              "    }\n",
              "  </style>\n",
              "\n",
              "    <script>\n",
              "      const buttonEl =\n",
              "        document.querySelector('#df-1d2c4737-13f5-4a4f-b993-d4fac04eb03b button.colab-df-convert');\n",
              "      buttonEl.style.display =\n",
              "        google.colab.kernel.accessAllowed ? 'block' : 'none';\n",
              "\n",
              "      async function convertToInteractive(key) {\n",
              "        const element = document.querySelector('#df-1d2c4737-13f5-4a4f-b993-d4fac04eb03b');\n",
              "        const dataTable =\n",
              "          await google.colab.kernel.invokeFunction('convertToInteractive',\n",
              "                                                    [key], {});\n",
              "        if (!dataTable) return;\n",
              "\n",
              "        const docLinkHtml = 'Like what you see? Visit the ' +\n",
              "          '<a target=\"_blank\" href=https://colab.research.google.com/notebooks/data_table.ipynb>data table notebook</a>'\n",
              "          + ' to learn more about interactive tables.';\n",
              "        element.innerHTML = '';\n",
              "        dataTable['output_type'] = 'display_data';\n",
              "        await google.colab.output.renderOutput(dataTable, element);\n",
              "        const docLink = document.createElement('div');\n",
              "        docLink.innerHTML = docLinkHtml;\n",
              "        element.appendChild(docLink);\n",
              "      }\n",
              "    </script>\n",
              "  </div>\n",
              "\n",
              "    </div>\n",
              "  </div>\n"
            ]
          },
          "metadata": {},
          "execution_count": 40
        }
      ]
    },
    {
      "cell_type": "code",
      "source": [
        "treatment = dataframe.query('test_group == \"ad\"')\n",
        "control = dataframe.query('test_group == \"psa\"')\n",
        "dataframe.converted.mean() *100"
      ],
      "metadata": {
        "colab": {
          "base_uri": "https://localhost:8080/"
        },
        "id": "QvC45bGIMBn_",
        "outputId": "a076f7fd-17c6-47f8-edad-5ecfd1fabc64"
      },
      "execution_count": 42,
      "outputs": [
        {
          "output_type": "execute_result",
          "data": {
            "text/plain": [
              "2.523886203220195"
            ]
          },
          "metadata": {},
          "execution_count": 42
        }
      ]
    },
    {
      "cell_type": "code",
      "source": [
        "control[\"converted\"].mean()"
      ],
      "metadata": {
        "colab": {
          "base_uri": "https://localhost:8080/"
        },
        "id": "m7NuSmSAMHXs",
        "outputId": "90218980-68c9-4b04-eb0b-090071a50ca3"
      },
      "execution_count": 43,
      "outputs": [
        {
          "output_type": "execute_result",
          "data": {
            "text/plain": [
              "0.01785410644448223"
            ]
          },
          "metadata": {},
          "execution_count": 43
        }
      ]
    },
    {
      "cell_type": "code",
      "source": [
        "treatment[\"converted\"].mean()"
      ],
      "metadata": {
        "colab": {
          "base_uri": "https://localhost:8080/"
        },
        "id": "rA4LCn0SMH1H",
        "outputId": "b6d21380-76e7-4dce-d95f-71a61f7c87b0"
      },
      "execution_count": 44,
      "outputs": [
        {
          "output_type": "execute_result",
          "data": {
            "text/plain": [
              "0.025546559636683747"
            ]
          },
          "metadata": {},
          "execution_count": 44
        }
      ]
    },
    {
      "cell_type": "markdown",
      "source": [
        "#### Промежумточный вывод: мы можем наблюдать, что среднее число конверсий в экспериментальной группе больше, чем в контрольной группе, что подтверждает гипотезу о том, что реклама оказывает положительное влияние на конверсию."
      ],
      "metadata": {
        "id": "7otgwA1WM3YS"
      }
    },
    {
      "cell_type": "code",
      "source": [
        "ad_converted = np.random.binomial(len(treatment),\n",
        "                                  dataframe.converted.mean(), 10000) / len(treatment)\n",
        "\n",
        "plt.hist(ad_converted, bins=50)"
      ],
      "metadata": {
        "colab": {
          "base_uri": "https://localhost:8080/",
          "height": 734
        },
        "id": "ogFe8rkVNGty",
        "outputId": "aa6d4ea1-756b-4d41-8833-5d38466caa39"
      },
      "execution_count": 46,
      "outputs": [
        {
          "output_type": "execute_result",
          "data": {
            "text/plain": [
              "(array([  1.,   1.,   0.,   0.,   1.,   1.,   4.,   4.,   5.,  11.,  22.,\n",
              "         20.,  48.,  59.,  95., 131., 163., 238., 284., 341., 386., 415.,\n",
              "        494., 591., 632., 606., 705., 634., 601., 556., 565., 483., 376.,\n",
              "        337., 291., 230., 177., 151., 105.,  75.,  50.,  35.,  22.,  17.,\n",
              "         19.,   8.,   4.,   2.,   2.,   2.]),\n",
              " array([0.02433503, 0.02436883, 0.02440262, 0.02443642, 0.02447021,\n",
              "        0.02450401, 0.0245378 , 0.0245716 , 0.02460539, 0.02463919,\n",
              "        0.02467299, 0.02470678, 0.02474058, 0.02477437, 0.02480817,\n",
              "        0.02484196, 0.02487576, 0.02490955, 0.02494335, 0.02497714,\n",
              "        0.02501094, 0.02504473, 0.02507853, 0.02511232, 0.02514612,\n",
              "        0.02517991, 0.02521371, 0.0252475 , 0.0252813 , 0.02531509,\n",
              "        0.02534889, 0.02538268, 0.02541648, 0.02545028, 0.02548407,\n",
              "        0.02551787, 0.02555166, 0.02558546, 0.02561925, 0.02565305,\n",
              "        0.02568684, 0.02572064, 0.02575443, 0.02578823, 0.02582202,\n",
              "        0.02585582, 0.02588961, 0.02592341, 0.0259572 , 0.025991  ,\n",
              "        0.02602479]),\n",
              " <BarContainer object of 50 artists>)"
            ]
          },
          "metadata": {},
          "execution_count": 46
        },
        {
          "output_type": "display_data",
          "data": {
            "text/plain": [
              "<Figure size 640x480 with 1 Axes>"
            ],
            "image/png": "[encoded data removed]"
          },
          "metadata": {}
        }
      ]
    },
    {
      "cell_type": "code",
      "source": [
        "psa_converted = np.random.binomial(len(control),\n",
        "                                   dataframe.converted.mean(), 10000) / len(control)\n",
        "\n",
        "plt.hist(psa_converted, bins=50 ,align = 'mid' , data=None)"
      ],
      "metadata": {
        "colab": {
          "base_uri": "https://localhost:8080/",
          "height": 734
        },
        "id": "Q2ik1IwTNSYp",
        "outputId": "65ec0cf8-801d-4af5-fc01-a2dbe70212f9"
      },
      "execution_count": 47,
      "outputs": [
        {
          "output_type": "execute_result",
          "data": {
            "text/plain": [
              "(array([  2.,   0.,   2.,   5.,   7.,   6.,  17.,  19.,  26.,  53.,  56.,\n",
              "         90., 130., 109., 237., 225., 345., 372., 366., 497., 567., 473.,\n",
              "        609., 451., 611., 655., 505., 607., 403., 500., 454., 272., 344.,\n",
              "        245., 175., 166., 106., 100.,  62.,  33.,  42.,  24.,   7.,  13.,\n",
              "          3.,   4.,   2.,   2.,   0.,   1.]),\n",
              " array([0.02146744, 0.02162132, 0.02177521, 0.02192909, 0.02208298,\n",
              "        0.02223686, 0.02239075, 0.02254464, 0.02269852, 0.02285241,\n",
              "        0.02300629, 0.02316018, 0.02331406, 0.02346795, 0.02362183,\n",
              "        0.02377572, 0.0239296 , 0.02408349, 0.02423737, 0.02439126,\n",
              "        0.02454515, 0.02469903, 0.02485292, 0.0250068 , 0.02516069,\n",
              "        0.02531457, 0.02546846, 0.02562234, 0.02577623, 0.02593011,\n",
              "        0.026084  , 0.02623788, 0.02639177, 0.02654566, 0.02669954,\n",
              "        0.02685343, 0.02700731, 0.0271612 , 0.02731508, 0.02746897,\n",
              "        0.02762285, 0.02777674, 0.02793062, 0.02808451, 0.02823839,\n",
              "        0.02839228, 0.02854617, 0.02870005, 0.02885394, 0.02900782,\n",
              "        0.02916171]),\n",
              " <BarContainer object of 50 artists>)"
            ]
          },
          "metadata": {},
          "execution_count": 47
        },
        {
          "output_type": "display_data",
          "data": {
            "text/plain": [
              "<Figure size 640x480 with 1 Axes>"
            ],
            "image/png": "[encoded data removed]"
          },
          "metadata": {}
        }
      ]
    },
    {
      "cell_type": "code",
      "source": [
        "p_diffs = ad_converted - psa_converted\n",
        "p_diffs\n",
        "p_diffs.mean()"
      ],
      "metadata": {
        "colab": {
          "base_uri": "https://localhost:8080/"
        },
        "id": "JaVcTtSdNZJb",
        "outputId": "d997f5e7-320f-4099-9c7d-f79a6da99316"
      },
      "execution_count": 48,
      "outputs": [
        {
          "output_type": "execute_result",
          "data": {
            "text/plain": [
              "4.674239453448939e-06"
            ]
          },
          "metadata": {},
          "execution_count": 48
        }
      ]
    },
    {
      "cell_type": "code",
      "source": [
        "ab_data_diff = treatment['converted'].mean() - control['converted'].mean()\n",
        "ab_data_diff"
      ],
      "metadata": {
        "colab": {
          "base_uri": "https://localhost:8080/"
        },
        "id": "BoKZYxO0Nb1C",
        "outputId": "9839212b-fb5d-4ab3-c740-9de7a8e367c4"
      },
      "execution_count": 49,
      "outputs": [
        {
          "output_type": "execute_result",
          "data": {
            "text/plain": [
              "0.007692453192201517"
            ]
          },
          "metadata": {},
          "execution_count": 49
        }
      ]
    },
    {
      "cell_type": "markdown",
      "source": [
        "#### Приводит ли показ рекламы людям к большему количеству покупок? Это статистически значимо или нет? Нулевая гипотеза (H0): показ рекламы не оказывает существенного влияния на количество покупок. Альтернативная гипотеза (H1): Показ рекламы существенно влияет на количество покупок."
      ],
      "metadata": {
        "id": "OJHWvJAZPTDZ"
      }
    },
    {
      "cell_type": "markdown",
      "source": [
        "### 4.1 Проверка данных на нормальность"
      ],
      "metadata": {
        "id": "cnggc6XVNc3T"
      }
    },
    {
      "cell_type": "code",
      "source": [
        "from scipy.stats import shapiro, levene, mannwhitneyu, ttest_ind\n",
        "\n",
        "ad_dist = dataframe[dataframe[\"test_group\"] == 'ad'].reset_index(drop=True)\n",
        "psa_dist = dataframe[dataframe[\"test_group\"] == 'psa'].reset_index(drop=True)\n",
        "_, pvalue_ad = shapiro(ad_dist.converted)\n",
        "_, pvalue_psa = shapiro(psa_dist.converted)\n",
        "print(pvalue_ad, pvalue_psa)"
      ],
      "metadata": {
        "colab": {
          "base_uri": "https://localhost:8080/"
        },
        "id": "b30LusQyOdSJ",
        "outputId": "a97e4fdc-100a-4787-89be-e0ef001dab79"
      },
      "execution_count": 52,
      "outputs": [
        {
          "output_type": "stream",
          "name": "stdout",
          "text": [
            "0.0 0.0\n"
          ]
        },
        {
          "output_type": "stream",
          "name": "stderr",
          "text": [
            "/usr/local/lib/python3.10/dist-packages/scipy/stats/_morestats.py:1882: UserWarning: p-value may not be accurate for N > 5000.\n",
            "  warnings.warn(\"p-value may not be accurate for N > 5000.\")\n"
          ]
        }
      ]
    },
    {
      "cell_type": "markdown",
      "source": [
        "### 4.2 Проверка однородности дисперсий"
      ],
      "metadata": {
        "id": "t7cO50C7O8X1"
      }
    },
    {
      "cell_type": "code",
      "source": [
        "levene(psa_dist.converted, ad_dist.converted)"
      ],
      "metadata": {
        "colab": {
          "base_uri": "https://localhost:8080/"
        },
        "id": "uI5n2Vr8O9q6",
        "outputId": "0328bc00-926b-49d4-e662-83faf0166534"
      },
      "execution_count": 56,
      "outputs": [
        {
          "output_type": "execute_result",
          "data": {
            "text/plain": [
              "LeveneResult(statistic=54.322884225785735, pvalue=1.703305262368155e-13)"
            ]
          },
          "metadata": {},
          "execution_count": 56
        }
      ]
    },
    {
      "cell_type": "markdown",
      "source": [
        "#### Промежуточный вывод: результаты статистически значимы.\n",
        "#### - pvalue категорически отвергает нулевую гипотезу\n",
        "#### - разница в конверсиях связана с рекламой"
      ],
      "metadata": {
        "id": "UYn3WLAyPHlB"
      }
    },
    {
      "cell_type": "code",
      "source": [
        "converts_psa = psa_dist.groupby('converted')['user_id'].count()\n",
        "converts_ad = ad_dist.groupby('converted')['user_id'].count()\n",
        "(100 * converts_psa[1]/converts_psa[0]), (100 * converts_ad[1]/converts_ad[0])"
      ],
      "metadata": {
        "colab": {
          "base_uri": "https://localhost:8080/"
        },
        "id": "_MKZ7sMBPbHR",
        "outputId": "fa1fcc5c-6974-4359-9554-4fac3fa29a50"
      },
      "execution_count": 55,
      "outputs": [
        {
          "output_type": "execute_result",
          "data": {
            "text/plain": [
              "(1.8178670360110802, 2.6216295800812137)"
            ]
          },
          "metadata": {},
          "execution_count": 55
        }
      ]
    },
    {
      "cell_type": "markdown",
      "source": [
        "### Вывод: Группа ADS достигла более высокого уровня конверсии в 2,62%, по сравнению с уровнем группы PSA в 1,82%. Это указывает на то, что рекламная кампания была более эффективной в стимулировании конверсий по сравнению с PSA. Значение t-test p-value, равное 0,0000, указывает на то, что разница в уровнях конверсии между двумя группами является статистически значимой, что означает, что вероятность случайного возникновения этой разницы крайне мала. Это представляет собой весомые доказательства для наблюдаемой разницы между двумя группами. В целом, эти результаты свидетельствуют о том, что рекламная кампания успешно стимулировала конверсии, и разницу в уровнях конверсии между двумя группами можно объяснить воздействием рекламы."
      ],
      "metadata": {
        "id": "lHESpbapQM72"
      }
    }
  ]
}