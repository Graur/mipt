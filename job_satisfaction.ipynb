{
  "nbformat": 4,
  "nbformat_minor": 0,
  "metadata": {
    "colab": {
      "provenance": [],
      "authorship_tag": "ABX9TyNCcm6wvHVQYPlpwSk/1VpI",
      "include_colab_link": true
    },
    "kernelspec": {
      "name": "python3",
      "display_name": "Python 3"
    },
    "language_info": {
      "name": "python"
    }
  },
  "cells": [
    {
      "cell_type": "markdown",
      "metadata": {
        "id": "view-in-github",
        "colab_type": "text"
      },
      "source": [
        "<a href=\"https://colab.research.google.com/github/Graur/mipt/blob/dev/job_satisfaction.ipynb\" target=\"_parent\"><img src=\"https://colab.research.google.com/assets/colab-badge.svg\" alt=\"Open In Colab\"/></a>"
      ]
    },
    {
      "cell_type": "markdown",
      "source": [
        "### Условие:\n",
        "\n",
        "Имеются данные по уровню удовлетворенности сотрудников компании (файл job_satisfaction_train.xlsx). Все сотрудники имеют уровень удовлетворенности от 1 до 5 (переменная jobsat).\n",
        "\n",
        "Требуется построить модель множественной регрессии для предсказания уровня удовлетворенности сотрудников.\n",
        "\n",
        "Оценить качество построенной модели по различным метрикам (коэффициент детерминации, F-статистика, среднеквадратичная ошибка)\n",
        "\n",
        "Предсказать недостающие данные в столбце jobsat"
      ],
      "metadata": {
        "id": "ik1ohnGkYjLx"
      }
    },
    {
      "cell_type": "markdown",
      "source": [
        "1. EDA \n",
        "\n",
        "Импортируем все необходимые библиотеки"
      ],
      "metadata": {
        "id": "BRpZp0S2KBar"
      }
    },
    {
      "cell_type": "code",
      "source": [
        "import numpy as np\n",
        "import pandas as pd\n",
        "import matplotlib.pyplot as plt\n",
        "import seaborn as sns\n",
        "import sklearn\n",
        "from sklearn.linear_model import LinearRegression, LogisticRegression\n",
        "from sklearn.model_selection import train_test_split\n",
        "from sklearn.preprocessing import StandardScaler\n",
        "from sklearn.metrics import (mean_squared_error, mean_absolute_error ,accuracy_score, precision_score, recall_score,\n",
        "                             f1_score, roc_auc_score, roc_curve, auc,\n",
        "                             classification_report, r2_score)\n",
        "\n",
        "%matplotlib inline"
      ],
      "metadata": {
        "id": "fsy7vLUmYt_Q"
      },
      "execution_count": 410,
      "outputs": []
    },
    {
      "cell_type": "markdown",
      "source": [
        "Загрузим наш датасет"
      ],
      "metadata": {
        "id": "Wt7nO_-pKMTU"
      }
    },
    {
      "cell_type": "code",
      "source": [
        "df = pd.read_excel(\"/content/sample_data/job_satisfaction_train.xlsx\")\n",
        "df.head()"
      ],
      "metadata": {
        "colab": {
          "base_uri": "https://localhost:8080/",
          "height": 300
        },
        "id": "7-TQz2fiYuZu",
        "outputId": "68b1acda-0f61-4b66-e9be-27548fa42750"
      },
      "execution_count": 411,
      "outputs": [
        {
          "output_type": "execute_result",
          "data": {
            "text/plain": [
              "   age  marital  address  income  inccat   car  carcat  ed  employ  retire  \\\n",
              "0   55        1       12      72       3  36.2       3   1      23       0   \n",
              "1   56        0       29     153       4  76.9       3   1      35       0   \n",
              "2   28        1        9      28       2  13.7       1   3       4       0   \n",
              "3   24        1        4      26       2  12.5       1   4       0       0   \n",
              "4   25        0        2      23       1  11.3       1   2       5       0   \n",
              "\n",
              "   ...  callid  callwait owntv  ownvcr  owncd  ownpda  ownpc  ownfax  news  \\\n",
              "0  ...       0         0     1       1      1       0      0       0     0   \n",
              "1  ...       1         1     1       1      1       0      0       0     0   \n",
              "2  ...       1         1     1       1      1       1      1       0     1   \n",
              "3  ...       0         1     1       1      1       1      1       1     1   \n",
              "4  ...       1         0     1       1      1       0      0       0     1   \n",
              "\n",
              "   response  \n",
              "0         1  \n",
              "1         0  \n",
              "2         1  \n",
              "3         1  \n",
              "4         1  \n",
              "\n",
              "[5 rows x 29 columns]"
            ],
            "text/html": [
              "\n",
              "  <div id=\"df-d76a3c3c-43fc-4940-9ddd-380e83884156\">\n",
              "    <div class=\"colab-df-container\">\n",
              "      <div>\n",
              "<style scoped>\n",
              "    .dataframe tbody tr th:only-of-type {\n",
              "        vertical-align: middle;\n",
              "    }\n",
              "\n",
              "    .dataframe tbody tr th {\n",
              "        vertical-align: top;\n",
              "    }\n",
              "\n",
              "    .dataframe thead th {\n",
              "        text-align: right;\n",
              "    }\n",
              "</style>\n",
              "<table border=\"1\" class=\"dataframe\">\n",
              "  <thead>\n",
              "    <tr style=\"text-align: right;\">\n",
              "      <th></th>\n",
              "      <th>age</th>\n",
              "      <th>marital</th>\n",
              "      <th>address</th>\n",
              "      <th>income</th>\n",
              "      <th>inccat</th>\n",
              "      <th>car</th>\n",
              "      <th>carcat</th>\n",
              "      <th>ed</th>\n",
              "      <th>employ</th>\n",
              "      <th>retire</th>\n",
              "      <th>...</th>\n",
              "      <th>callid</th>\n",
              "      <th>callwait</th>\n",
              "      <th>owntv</th>\n",
              "      <th>ownvcr</th>\n",
              "      <th>owncd</th>\n",
              "      <th>ownpda</th>\n",
              "      <th>ownpc</th>\n",
              "      <th>ownfax</th>\n",
              "      <th>news</th>\n",
              "      <th>response</th>\n",
              "    </tr>\n",
              "  </thead>\n",
              "  <tbody>\n",
              "    <tr>\n",
              "      <th>0</th>\n",
              "      <td>55</td>\n",
              "      <td>1</td>\n",
              "      <td>12</td>\n",
              "      <td>72</td>\n",
              "      <td>3</td>\n",
              "      <td>36.2</td>\n",
              "      <td>3</td>\n",
              "      <td>1</td>\n",
              "      <td>23</td>\n",
              "      <td>0</td>\n",
              "      <td>...</td>\n",
              "      <td>0</td>\n",
              "      <td>0</td>\n",
              "      <td>1</td>\n",
              "      <td>1</td>\n",
              "      <td>1</td>\n",
              "      <td>0</td>\n",
              "      <td>0</td>\n",
              "      <td>0</td>\n",
              "      <td>0</td>\n",
              "      <td>1</td>\n",
              "    </tr>\n",
              "    <tr>\n",
              "      <th>1</th>\n",
              "      <td>56</td>\n",
              "      <td>0</td>\n",
              "      <td>29</td>\n",
              "      <td>153</td>\n",
              "      <td>4</td>\n",
              "      <td>76.9</td>\n",
              "      <td>3</td>\n",
              "      <td>1</td>\n",
              "      <td>35</td>\n",
              "      <td>0</td>\n",
              "      <td>...</td>\n",
              "      <td>1</td>\n",
              "      <td>1</td>\n",
              "      <td>1</td>\n",
              "      <td>1</td>\n",
              "      <td>1</td>\n",
              "      <td>0</td>\n",
              "      <td>0</td>\n",
              "      <td>0</td>\n",
              "      <td>0</td>\n",
              "      <td>0</td>\n",
              "    </tr>\n",
              "    <tr>\n",
              "      <th>2</th>\n",
              "      <td>28</td>\n",
              "      <td>1</td>\n",
              "      <td>9</td>\n",
              "      <td>28</td>\n",
              "      <td>2</td>\n",
              "      <td>13.7</td>\n",
              "      <td>1</td>\n",
              "      <td>3</td>\n",
              "      <td>4</td>\n",
              "      <td>0</td>\n",
              "      <td>...</td>\n",
              "      <td>1</td>\n",
              "      <td>1</td>\n",
              "      <td>1</td>\n",
              "      <td>1</td>\n",
              "      <td>1</td>\n",
              "      <td>1</td>\n",
              "      <td>1</td>\n",
              "      <td>0</td>\n",
              "      <td>1</td>\n",
              "      <td>1</td>\n",
              "    </tr>\n",
              "    <tr>\n",
              "      <th>3</th>\n",
              "      <td>24</td>\n",
              "      <td>1</td>\n",
              "      <td>4</td>\n",
              "      <td>26</td>\n",
              "      <td>2</td>\n",
              "      <td>12.5</td>\n",
              "      <td>1</td>\n",
              "      <td>4</td>\n",
              "      <td>0</td>\n",
              "      <td>0</td>\n",
              "      <td>...</td>\n",
              "      <td>0</td>\n",
              "      <td>1</td>\n",
              "      <td>1</td>\n",
              "      <td>1</td>\n",
              "      <td>1</td>\n",
              "      <td>1</td>\n",
              "      <td>1</td>\n",
              "      <td>1</td>\n",
              "      <td>1</td>\n",
              "      <td>1</td>\n",
              "    </tr>\n",
              "    <tr>\n",
              "      <th>4</th>\n",
              "      <td>25</td>\n",
              "      <td>0</td>\n",
              "      <td>2</td>\n",
              "      <td>23</td>\n",
              "      <td>1</td>\n",
              "      <td>11.3</td>\n",
              "      <td>1</td>\n",
              "      <td>2</td>\n",
              "      <td>5</td>\n",
              "      <td>0</td>\n",
              "      <td>...</td>\n",
              "      <td>1</td>\n",
              "      <td>0</td>\n",
              "      <td>1</td>\n",
              "      <td>1</td>\n",
              "      <td>1</td>\n",
              "      <td>0</td>\n",
              "      <td>0</td>\n",
              "      <td>0</td>\n",
              "      <td>1</td>\n",
              "      <td>1</td>\n",
              "    </tr>\n",
              "  </tbody>\n",
              "</table>\n",
              "<p>5 rows × 29 columns</p>\n",
              "</div>\n",
              "      <button class=\"colab-df-convert\" onclick=\"convertToInteractive('df-d76a3c3c-43fc-4940-9ddd-380e83884156')\"\n",
              "              title=\"Convert this dataframe to an interactive table.\"\n",
              "              style=\"display:none;\">\n",
              "        \n",
              "  <svg xmlns=\"http://www.w3.org/2000/svg\" height=\"24px\"viewBox=\"0 0 24 24\"\n",
              "       width=\"24px\">\n",
              "    <path d=\"M0 0h24v24H0V0z\" fill=\"none\"/>\n",
              "    <path d=\"M18.56 5.44l.94 2.06.94-2.06 2.06-.94-2.06-.94-.94-2.06-.94 2.06-2.06.94zm-11 1L8.5 8.5l.94-2.06 2.06-.94-2.06-.94L8.5 2.5l-.94 2.06-2.06.94zm10 10l.94 2.06.94-2.06 2.06-.94-2.06-.94-.94-2.06-.94 2.06-2.06.94z\"/><path d=\"M17.41 7.96l-1.37-1.37c-.4-.4-.92-.59-1.43-.59-.52 0-1.04.2-1.43.59L10.3 9.45l-7.72 7.72c-.78.78-.78 2.05 0 2.83L4 21.41c.39.39.9.59 1.41.59.51 0 1.02-.2 1.41-.59l7.78-7.78 2.81-2.81c.8-.78.8-2.07 0-2.86zM5.41 20L4 18.59l7.72-7.72 1.47 1.35L5.41 20z\"/>\n",
              "  </svg>\n",
              "      </button>\n",
              "      \n",
              "  <style>\n",
              "    .colab-df-container {\n",
              "      display:flex;\n",
              "      flex-wrap:wrap;\n",
              "      gap: 12px;\n",
              "    }\n",
              "\n",
              "    .colab-df-convert {\n",
              "      background-color: #E8F0FE;\n",
              "      border: none;\n",
              "      border-radius: 50%;\n",
              "      cursor: pointer;\n",
              "      display: none;\n",
              "      fill: #1967D2;\n",
              "      height: 32px;\n",
              "      padding: 0 0 0 0;\n",
              "      width: 32px;\n",
              "    }\n",
              "\n",
              "    .colab-df-convert:hover {\n",
              "      background-color: #E2EBFA;\n",
              "      box-shadow: 0px 1px 2px rgba(60, 64, 67, 0.3), 0px 1px 3px 1px rgba(60, 64, 67, 0.15);\n",
              "      fill: #174EA6;\n",
              "    }\n",
              "\n",
              "    [theme=dark] .colab-df-convert {\n",
              "      background-color: #3B4455;\n",
              "      fill: #D2E3FC;\n",
              "    }\n",
              "\n",
              "    [theme=dark] .colab-df-convert:hover {\n",
              "      background-color: #434B5C;\n",
              "      box-shadow: 0px 1px 3px 1px rgba(0, 0, 0, 0.15);\n",
              "      filter: drop-shadow(0px 1px 2px rgba(0, 0, 0, 0.3));\n",
              "      fill: #FFFFFF;\n",
              "    }\n",
              "  </style>\n",
              "\n",
              "      <script>\n",
              "        const buttonEl =\n",
              "          document.querySelector('#df-d76a3c3c-43fc-4940-9ddd-380e83884156 button.colab-df-convert');\n",
              "        buttonEl.style.display =\n",
              "          google.colab.kernel.accessAllowed ? 'block' : 'none';\n",
              "\n",
              "        async function convertToInteractive(key) {\n",
              "          const element = document.querySelector('#df-d76a3c3c-43fc-4940-9ddd-380e83884156');\n",
              "          const dataTable =\n",
              "            await google.colab.kernel.invokeFunction('convertToInteractive',\n",
              "                                                     [key], {});\n",
              "          if (!dataTable) return;\n",
              "\n",
              "          const docLinkHtml = 'Like what you see? Visit the ' +\n",
              "            '<a target=\"_blank\" href=https://colab.research.google.com/notebooks/data_table.ipynb>data table notebook</a>'\n",
              "            + ' to learn more about interactive tables.';\n",
              "          element.innerHTML = '';\n",
              "          dataTable['output_type'] = 'display_data';\n",
              "          await google.colab.output.renderOutput(dataTable, element);\n",
              "          const docLink = document.createElement('div');\n",
              "          docLink.innerHTML = docLinkHtml;\n",
              "          element.appendChild(docLink);\n",
              "        }\n",
              "      </script>\n",
              "    </div>\n",
              "  </div>\n",
              "  "
            ]
          },
          "metadata": {},
          "execution_count": 411
        }
      ]
    },
    {
      "cell_type": "markdown",
      "source": [
        "Проверим данные"
      ],
      "metadata": {
        "id": "SHguHTjSKQl-"
      }
    },
    {
      "cell_type": "code",
      "source": [
        "df.info()"
      ],
      "metadata": {
        "colab": {
          "base_uri": "https://localhost:8080/"
        },
        "id": "IsmOZO56Yugu",
        "outputId": "c29ef9cf-35d9-497d-d0d0-5d2bd634d0df"
      },
      "execution_count": 412,
      "outputs": [
        {
          "output_type": "stream",
          "name": "stdout",
          "text": [
            "<class 'pandas.core.frame.DataFrame'>\n",
            "RangeIndex: 6400 entries, 0 to 6399\n",
            "Data columns (total 29 columns):\n",
            " #   Column    Non-Null Count  Dtype  \n",
            "---  ------    --------------  -----  \n",
            " 0   age       6400 non-null   int64  \n",
            " 1   marital   6400 non-null   int64  \n",
            " 2   address   6400 non-null   int64  \n",
            " 3   income    6400 non-null   int64  \n",
            " 4   inccat    6400 non-null   int64  \n",
            " 5   car       6400 non-null   float64\n",
            " 6   carcat    6400 non-null   int64  \n",
            " 7   ed        6400 non-null   int64  \n",
            " 8   employ    6400 non-null   int64  \n",
            " 9   retire    6400 non-null   int64  \n",
            " 10  empcat    6400 non-null   int64  \n",
            " 11  jobsat    5400 non-null   float64\n",
            " 12  gender    6400 non-null   object \n",
            " 13  reside    6400 non-null   int64  \n",
            " 14  wireless  6400 non-null   int64  \n",
            " 15  multline  6400 non-null   int64  \n",
            " 16  voice     6400 non-null   int64  \n",
            " 17  pager     6400 non-null   int64  \n",
            " 18  internet  6400 non-null   int64  \n",
            " 19  callid    6400 non-null   int64  \n",
            " 20  callwait  6400 non-null   int64  \n",
            " 21  owntv     6400 non-null   int64  \n",
            " 22  ownvcr    6400 non-null   int64  \n",
            " 23  owncd     6400 non-null   int64  \n",
            " 24  ownpda    6400 non-null   int64  \n",
            " 25  ownpc     6400 non-null   int64  \n",
            " 26  ownfax    6400 non-null   int64  \n",
            " 27  news      6400 non-null   int64  \n",
            " 28  response  6400 non-null   int64  \n",
            "dtypes: float64(2), int64(26), object(1)\n",
            "memory usage: 1.4+ MB\n"
          ]
        }
      ]
    },
    {
      "cell_type": "code",
      "source": [
        "df.shape"
      ],
      "metadata": {
        "colab": {
          "base_uri": "https://localhost:8080/"
        },
        "id": "boUmzrwYiOYd",
        "outputId": "0021195c-a8bb-41b9-cc3c-e7c9b30dd3ab"
      },
      "execution_count": 413,
      "outputs": [
        {
          "output_type": "execute_result",
          "data": {
            "text/plain": [
              "(6400, 29)"
            ]
          },
          "metadata": {},
          "execution_count": 413
        }
      ]
    },
    {
      "cell_type": "markdown",
      "source": [
        "2. Предобработка данных"
      ],
      "metadata": {
        "id": "eGXX9RVZK_W6"
      }
    },
    {
      "cell_type": "markdown",
      "source": [
        "Можем наблюдать, что признак пола является категориальным. Его можно легко представить в бинарном виде:"
      ],
      "metadata": {
        "id": "hVELikjFKV6j"
      }
    },
    {
      "cell_type": "code",
      "source": [
        "df[\"gender\"].replace('f', 0, inplace=True)\n",
        "df[\"gender\"].replace('m', 1, inplace=True)"
      ],
      "metadata": {
        "id": "vMgMaoV3du-G"
      },
      "execution_count": 414,
      "outputs": []
    },
    {
      "cell_type": "code",
      "source": [
        "df[\"gender\"].value_counts()"
      ],
      "metadata": {
        "colab": {
          "base_uri": "https://localhost:8080/"
        },
        "id": "cDqEGU96ip7-",
        "outputId": "70156a0b-860e-4b7c-f971-15c38aebc50f"
      },
      "execution_count": 415,
      "outputs": [
        {
          "output_type": "execute_result",
          "data": {
            "text/plain": [
              "1    3221\n",
              "0    3179\n",
              "Name: gender, dtype: int64"
            ]
          },
          "metadata": {},
          "execution_count": 415
        }
      ]
    },
    {
      "cell_type": "code",
      "source": [
        "df[\"gender\"].unique()"
      ],
      "metadata": {
        "colab": {
          "base_uri": "https://localhost:8080/"
        },
        "id": "4xg6y3iwerf6",
        "outputId": "1028c14d-68a7-4347-ff98-f50fce41578c"
      },
      "execution_count": 416,
      "outputs": [
        {
          "output_type": "execute_result",
          "data": {
            "text/plain": [
              "array([0, 1])"
            ]
          },
          "metadata": {},
          "execution_count": 416
        }
      ]
    },
    {
      "cell_type": "code",
      "source": [
        "df.describe().T"
      ],
      "metadata": {
        "colab": {
          "base_uri": "https://localhost:8080/",
          "height": 959
        },
        "id": "AoP-kYqtYui7",
        "outputId": "0b6ab3fc-ef35-4991-903c-3305c44c9c55"
      },
      "execution_count": 417,
      "outputs": [
        {
          "output_type": "execute_result",
          "data": {
            "text/plain": [
              "           count       mean        std   min   25%   50%   75%     max\n",
              "age       6400.0  42.058594  12.289516  18.0  33.0  41.0  51.0    77.0\n",
              "marital   6400.0   0.496250   0.500025   0.0   0.0   0.0   1.0     1.0\n",
              "address   6400.0  11.559844   9.938136   0.0   3.0   9.0  17.0    56.0\n",
              "income    6400.0  69.474844  78.718564   9.0  28.0  45.0  79.0  1116.0\n",
              "inccat    6400.0   2.528437   1.073835   1.0   2.0   2.0   4.0     4.0\n",
              "car       6400.0  30.128375  21.926917   4.2  13.9  22.2  39.5    99.9\n",
              "carcat    6400.0   2.069219   0.799900   1.0   1.0   2.0   3.0     3.0\n",
              "ed        6400.0   2.587031   1.198760   1.0   2.0   2.0   4.0     5.0\n",
              "employ    6400.0  10.566250   9.724458   0.0   3.0   8.0  16.0    57.0\n",
              "retire    6400.0   0.048125   0.214047   0.0   0.0   0.0   0.0     1.0\n",
              "empcat    6400.0   1.938125   0.791767   1.0   1.0   2.0   3.0     3.0\n",
              "jobsat    5400.0   3.056481   1.372188   1.0   2.0   3.0   4.0     5.0\n",
              "gender    6400.0   0.503281   0.500028   0.0   0.0   1.0   1.0     1.0\n",
              "reside    6400.0   2.349687   1.468287   1.0   1.0   2.0   3.0     9.0\n",
              "wireless  6400.0   0.397969   0.489517   0.0   0.0   0.0   1.0     1.0\n",
              "multline  6400.0   0.420469   0.493673   0.0   0.0   0.0   1.0     1.0\n",
              "voice     6400.0   0.430469   0.495180   0.0   0.0   0.0   1.0     1.0\n",
              "pager     6400.0   0.247031   0.431319   0.0   0.0   0.0   0.0     1.0\n",
              "internet  6400.0   0.596094   1.679273   0.0   0.0   0.0   1.0     9.0\n",
              "callid    6400.0   0.510469   0.499929   0.0   0.0   1.0   1.0     1.0\n",
              "callwait  6400.0   0.507344   0.499985   0.0   0.0   1.0   1.0     1.0\n",
              "owntv     6400.0   0.990156   0.098734   0.0   1.0   1.0   1.0     1.0\n",
              "ownvcr    6400.0   0.960156   0.195607   0.0   1.0   1.0   1.0     1.0\n",
              "owncd     6400.0   0.969688   0.171459   0.0   1.0   1.0   1.0     1.0\n",
              "ownpda    6400.0   0.204219   0.403161   0.0   0.0   0.0   0.0     1.0\n",
              "ownpc     6400.0   0.439219   0.496331   0.0   0.0   0.0   1.0     1.0\n",
              "ownfax    6400.0   0.187812   0.390593   0.0   0.0   0.0   0.0     1.0\n",
              "news      6400.0   0.567500   0.495462   0.0   0.0   1.0   1.0     1.0\n",
              "response  6400.0   0.893906   0.307982   0.0   1.0   1.0   1.0     1.0"
            ],
            "text/html": [
              "\n",
              "  <div id=\"df-b8bba92e-5aba-4c5c-a320-538a77c90294\">\n",
              "    <div class=\"colab-df-container\">\n",
              "      <div>\n",
              "<style scoped>\n",
              "    .dataframe tbody tr th:only-of-type {\n",
              "        vertical-align: middle;\n",
              "    }\n",
              "\n",
              "    .dataframe tbody tr th {\n",
              "        vertical-align: top;\n",
              "    }\n",
              "\n",
              "    .dataframe thead th {\n",
              "        text-align: right;\n",
              "    }\n",
              "</style>\n",
              "<table border=\"1\" class=\"dataframe\">\n",
              "  <thead>\n",
              "    <tr style=\"text-align: right;\">\n",
              "      <th></th>\n",
              "      <th>count</th>\n",
              "      <th>mean</th>\n",
              "      <th>std</th>\n",
              "      <th>min</th>\n",
              "      <th>25%</th>\n",
              "      <th>50%</th>\n",
              "      <th>75%</th>\n",
              "      <th>max</th>\n",
              "    </tr>\n",
              "  </thead>\n",
              "  <tbody>\n",
              "    <tr>\n",
              "      <th>age</th>\n",
              "      <td>6400.0</td>\n",
              "      <td>42.058594</td>\n",
              "      <td>12.289516</td>\n",
              "      <td>18.0</td>\n",
              "      <td>33.0</td>\n",
              "      <td>41.0</td>\n",
              "      <td>51.0</td>\n",
              "      <td>77.0</td>\n",
              "    </tr>\n",
              "    <tr>\n",
              "      <th>marital</th>\n",
              "      <td>6400.0</td>\n",
              "      <td>0.496250</td>\n",
              "      <td>0.500025</td>\n",
              "      <td>0.0</td>\n",
              "      <td>0.0</td>\n",
              "      <td>0.0</td>\n",
              "      <td>1.0</td>\n",
              "      <td>1.0</td>\n",
              "    </tr>\n",
              "    <tr>\n",
              "      <th>address</th>\n",
              "      <td>6400.0</td>\n",
              "      <td>11.559844</td>\n",
              "      <td>9.938136</td>\n",
              "      <td>0.0</td>\n",
              "      <td>3.0</td>\n",
              "      <td>9.0</td>\n",
              "      <td>17.0</td>\n",
              "      <td>56.0</td>\n",
              "    </tr>\n",
              "    <tr>\n",
              "      <th>income</th>\n",
              "      <td>6400.0</td>\n",
              "      <td>69.474844</td>\n",
              "      <td>78.718564</td>\n",
              "      <td>9.0</td>\n",
              "      <td>28.0</td>\n",
              "      <td>45.0</td>\n",
              "      <td>79.0</td>\n",
              "      <td>1116.0</td>\n",
              "    </tr>\n",
              "    <tr>\n",
              "      <th>inccat</th>\n",
              "      <td>6400.0</td>\n",
              "      <td>2.528437</td>\n",
              "      <td>1.073835</td>\n",
              "      <td>1.0</td>\n",
              "      <td>2.0</td>\n",
              "      <td>2.0</td>\n",
              "      <td>4.0</td>\n",
              "      <td>4.0</td>\n",
              "    </tr>\n",
              "    <tr>\n",
              "      <th>car</th>\n",
              "      <td>6400.0</td>\n",
              "      <td>30.128375</td>\n",
              "      <td>21.926917</td>\n",
              "      <td>4.2</td>\n",
              "      <td>13.9</td>\n",
              "      <td>22.2</td>\n",
              "      <td>39.5</td>\n",
              "      <td>99.9</td>\n",
              "    </tr>\n",
              "    <tr>\n",
              "      <th>carcat</th>\n",
              "      <td>6400.0</td>\n",
              "      <td>2.069219</td>\n",
              "      <td>0.799900</td>\n",
              "      <td>1.0</td>\n",
              "      <td>1.0</td>\n",
              "      <td>2.0</td>\n",
              "      <td>3.0</td>\n",
              "      <td>3.0</td>\n",
              "    </tr>\n",
              "    <tr>\n",
              "      <th>ed</th>\n",
              "      <td>6400.0</td>\n",
              "      <td>2.587031</td>\n",
              "      <td>1.198760</td>\n",
              "      <td>1.0</td>\n",
              "      <td>2.0</td>\n",
              "      <td>2.0</td>\n",
              "      <td>4.0</td>\n",
              "      <td>5.0</td>\n",
              "    </tr>\n",
              "    <tr>\n",
              "      <th>employ</th>\n",
              "      <td>6400.0</td>\n",
              "      <td>10.566250</td>\n",
              "      <td>9.724458</td>\n",
              "      <td>0.0</td>\n",
              "      <td>3.0</td>\n",
              "      <td>8.0</td>\n",
              "      <td>16.0</td>\n",
              "      <td>57.0</td>\n",
              "    </tr>\n",
              "    <tr>\n",
              "      <th>retire</th>\n",
              "      <td>6400.0</td>\n",
              "      <td>0.048125</td>\n",
              "      <td>0.214047</td>\n",
              "      <td>0.0</td>\n",
              "      <td>0.0</td>\n",
              "      <td>0.0</td>\n",
              "      <td>0.0</td>\n",
              "      <td>1.0</td>\n",
              "    </tr>\n",
              "    <tr>\n",
              "      <th>empcat</th>\n",
              "      <td>6400.0</td>\n",
              "      <td>1.938125</td>\n",
              "      <td>0.791767</td>\n",
              "      <td>1.0</td>\n",
              "      <td>1.0</td>\n",
              "      <td>2.0</td>\n",
              "      <td>3.0</td>\n",
              "      <td>3.0</td>\n",
              "    </tr>\n",
              "    <tr>\n",
              "      <th>jobsat</th>\n",
              "      <td>5400.0</td>\n",
              "      <td>3.056481</td>\n",
              "      <td>1.372188</td>\n",
              "      <td>1.0</td>\n",
              "      <td>2.0</td>\n",
              "      <td>3.0</td>\n",
              "      <td>4.0</td>\n",
              "      <td>5.0</td>\n",
              "    </tr>\n",
              "    <tr>\n",
              "      <th>gender</th>\n",
              "      <td>6400.0</td>\n",
              "      <td>0.503281</td>\n",
              "      <td>0.500028</td>\n",
              "      <td>0.0</td>\n",
              "      <td>0.0</td>\n",
              "      <td>1.0</td>\n",
              "      <td>1.0</td>\n",
              "      <td>1.0</td>\n",
              "    </tr>\n",
              "    <tr>\n",
              "      <th>reside</th>\n",
              "      <td>6400.0</td>\n",
              "      <td>2.349687</td>\n",
              "      <td>1.468287</td>\n",
              "      <td>1.0</td>\n",
              "      <td>1.0</td>\n",
              "      <td>2.0</td>\n",
              "      <td>3.0</td>\n",
              "      <td>9.0</td>\n",
              "    </tr>\n",
              "    <tr>\n",
              "      <th>wireless</th>\n",
              "      <td>6400.0</td>\n",
              "      <td>0.397969</td>\n",
              "      <td>0.489517</td>\n",
              "      <td>0.0</td>\n",
              "      <td>0.0</td>\n",
              "      <td>0.0</td>\n",
              "      <td>1.0</td>\n",
              "      <td>1.0</td>\n",
              "    </tr>\n",
              "    <tr>\n",
              "      <th>multline</th>\n",
              "      <td>6400.0</td>\n",
              "      <td>0.420469</td>\n",
              "      <td>0.493673</td>\n",
              "      <td>0.0</td>\n",
              "      <td>0.0</td>\n",
              "      <td>0.0</td>\n",
              "      <td>1.0</td>\n",
              "      <td>1.0</td>\n",
              "    </tr>\n",
              "    <tr>\n",
              "      <th>voice</th>\n",
              "      <td>6400.0</td>\n",
              "      <td>0.430469</td>\n",
              "      <td>0.495180</td>\n",
              "      <td>0.0</td>\n",
              "      <td>0.0</td>\n",
              "      <td>0.0</td>\n",
              "      <td>1.0</td>\n",
              "      <td>1.0</td>\n",
              "    </tr>\n",
              "    <tr>\n",
              "      <th>pager</th>\n",
              "      <td>6400.0</td>\n",
              "      <td>0.247031</td>\n",
              "      <td>0.431319</td>\n",
              "      <td>0.0</td>\n",
              "      <td>0.0</td>\n",
              "      <td>0.0</td>\n",
              "      <td>0.0</td>\n",
              "      <td>1.0</td>\n",
              "    </tr>\n",
              "    <tr>\n",
              "      <th>internet</th>\n",
              "      <td>6400.0</td>\n",
              "      <td>0.596094</td>\n",
              "      <td>1.679273</td>\n",
              "      <td>0.0</td>\n",
              "      <td>0.0</td>\n",
              "      <td>0.0</td>\n",
              "      <td>1.0</td>\n",
              "      <td>9.0</td>\n",
              "    </tr>\n",
              "    <tr>\n",
              "      <th>callid</th>\n",
              "      <td>6400.0</td>\n",
              "      <td>0.510469</td>\n",
              "      <td>0.499929</td>\n",
              "      <td>0.0</td>\n",
              "      <td>0.0</td>\n",
              "      <td>1.0</td>\n",
              "      <td>1.0</td>\n",
              "      <td>1.0</td>\n",
              "    </tr>\n",
              "    <tr>\n",
              "      <th>callwait</th>\n",
              "      <td>6400.0</td>\n",
              "      <td>0.507344</td>\n",
              "      <td>0.499985</td>\n",
              "      <td>0.0</td>\n",
              "      <td>0.0</td>\n",
              "      <td>1.0</td>\n",
              "      <td>1.0</td>\n",
              "      <td>1.0</td>\n",
              "    </tr>\n",
              "    <tr>\n",
              "      <th>owntv</th>\n",
              "      <td>6400.0</td>\n",
              "      <td>0.990156</td>\n",
              "      <td>0.098734</td>\n",
              "      <td>0.0</td>\n",
              "      <td>1.0</td>\n",
              "      <td>1.0</td>\n",
              "      <td>1.0</td>\n",
              "      <td>1.0</td>\n",
              "    </tr>\n",
              "    <tr>\n",
              "      <th>ownvcr</th>\n",
              "      <td>6400.0</td>\n",
              "      <td>0.960156</td>\n",
              "      <td>0.195607</td>\n",
              "      <td>0.0</td>\n",
              "      <td>1.0</td>\n",
              "      <td>1.0</td>\n",
              "      <td>1.0</td>\n",
              "      <td>1.0</td>\n",
              "    </tr>\n",
              "    <tr>\n",
              "      <th>owncd</th>\n",
              "      <td>6400.0</td>\n",
              "      <td>0.969688</td>\n",
              "      <td>0.171459</td>\n",
              "      <td>0.0</td>\n",
              "      <td>1.0</td>\n",
              "      <td>1.0</td>\n",
              "      <td>1.0</td>\n",
              "      <td>1.0</td>\n",
              "    </tr>\n",
              "    <tr>\n",
              "      <th>ownpda</th>\n",
              "      <td>6400.0</td>\n",
              "      <td>0.204219</td>\n",
              "      <td>0.403161</td>\n",
              "      <td>0.0</td>\n",
              "      <td>0.0</td>\n",
              "      <td>0.0</td>\n",
              "      <td>0.0</td>\n",
              "      <td>1.0</td>\n",
              "    </tr>\n",
              "    <tr>\n",
              "      <th>ownpc</th>\n",
              "      <td>6400.0</td>\n",
              "      <td>0.439219</td>\n",
              "      <td>0.496331</td>\n",
              "      <td>0.0</td>\n",
              "      <td>0.0</td>\n",
              "      <td>0.0</td>\n",
              "      <td>1.0</td>\n",
              "      <td>1.0</td>\n",
              "    </tr>\n",
              "    <tr>\n",
              "      <th>ownfax</th>\n",
              "      <td>6400.0</td>\n",
              "      <td>0.187812</td>\n",
              "      <td>0.390593</td>\n",
              "      <td>0.0</td>\n",
              "      <td>0.0</td>\n",
              "      <td>0.0</td>\n",
              "      <td>0.0</td>\n",
              "      <td>1.0</td>\n",
              "    </tr>\n",
              "    <tr>\n",
              "      <th>news</th>\n",
              "      <td>6400.0</td>\n",
              "      <td>0.567500</td>\n",
              "      <td>0.495462</td>\n",
              "      <td>0.0</td>\n",
              "      <td>0.0</td>\n",
              "      <td>1.0</td>\n",
              "      <td>1.0</td>\n",
              "      <td>1.0</td>\n",
              "    </tr>\n",
              "    <tr>\n",
              "      <th>response</th>\n",
              "      <td>6400.0</td>\n",
              "      <td>0.893906</td>\n",
              "      <td>0.307982</td>\n",
              "      <td>0.0</td>\n",
              "      <td>1.0</td>\n",
              "      <td>1.0</td>\n",
              "      <td>1.0</td>\n",
              "      <td>1.0</td>\n",
              "    </tr>\n",
              "  </tbody>\n",
              "</table>\n",
              "</div>\n",
              "      <button class=\"colab-df-convert\" onclick=\"convertToInteractive('df-b8bba92e-5aba-4c5c-a320-538a77c90294')\"\n",
              "              title=\"Convert this dataframe to an interactive table.\"\n",
              "              style=\"display:none;\">\n",
              "        \n",
              "  <svg xmlns=\"http://www.w3.org/2000/svg\" height=\"24px\"viewBox=\"0 0 24 24\"\n",
              "       width=\"24px\">\n",
              "    <path d=\"M0 0h24v24H0V0z\" fill=\"none\"/>\n",
              "    <path d=\"M18.56 5.44l.94 2.06.94-2.06 2.06-.94-2.06-.94-.94-2.06-.94 2.06-2.06.94zm-11 1L8.5 8.5l.94-2.06 2.06-.94-2.06-.94L8.5 2.5l-.94 2.06-2.06.94zm10 10l.94 2.06.94-2.06 2.06-.94-2.06-.94-.94-2.06-.94 2.06-2.06.94z\"/><path d=\"M17.41 7.96l-1.37-1.37c-.4-.4-.92-.59-1.43-.59-.52 0-1.04.2-1.43.59L10.3 9.45l-7.72 7.72c-.78.78-.78 2.05 0 2.83L4 21.41c.39.39.9.59 1.41.59.51 0 1.02-.2 1.41-.59l7.78-7.78 2.81-2.81c.8-.78.8-2.07 0-2.86zM5.41 20L4 18.59l7.72-7.72 1.47 1.35L5.41 20z\"/>\n",
              "  </svg>\n",
              "      </button>\n",
              "      \n",
              "  <style>\n",
              "    .colab-df-container {\n",
              "      display:flex;\n",
              "      flex-wrap:wrap;\n",
              "      gap: 12px;\n",
              "    }\n",
              "\n",
              "    .colab-df-convert {\n",
              "      background-color: #E8F0FE;\n",
              "      border: none;\n",
              "      border-radius: 50%;\n",
              "      cursor: pointer;\n",
              "      display: none;\n",
              "      fill: #1967D2;\n",
              "      height: 32px;\n",
              "      padding: 0 0 0 0;\n",
              "      width: 32px;\n",
              "    }\n",
              "\n",
              "    .colab-df-convert:hover {\n",
              "      background-color: #E2EBFA;\n",
              "      box-shadow: 0px 1px 2px rgba(60, 64, 67, 0.3), 0px 1px 3px 1px rgba(60, 64, 67, 0.15);\n",
              "      fill: #174EA6;\n",
              "    }\n",
              "\n",
              "    [theme=dark] .colab-df-convert {\n",
              "      background-color: #3B4455;\n",
              "      fill: #D2E3FC;\n",
              "    }\n",
              "\n",
              "    [theme=dark] .colab-df-convert:hover {\n",
              "      background-color: #434B5C;\n",
              "      box-shadow: 0px 1px 3px 1px rgba(0, 0, 0, 0.15);\n",
              "      filter: drop-shadow(0px 1px 2px rgba(0, 0, 0, 0.3));\n",
              "      fill: #FFFFFF;\n",
              "    }\n",
              "  </style>\n",
              "\n",
              "      <script>\n",
              "        const buttonEl =\n",
              "          document.querySelector('#df-b8bba92e-5aba-4c5c-a320-538a77c90294 button.colab-df-convert');\n",
              "        buttonEl.style.display =\n",
              "          google.colab.kernel.accessAllowed ? 'block' : 'none';\n",
              "\n",
              "        async function convertToInteractive(key) {\n",
              "          const element = document.querySelector('#df-b8bba92e-5aba-4c5c-a320-538a77c90294');\n",
              "          const dataTable =\n",
              "            await google.colab.kernel.invokeFunction('convertToInteractive',\n",
              "                                                     [key], {});\n",
              "          if (!dataTable) return;\n",
              "\n",
              "          const docLinkHtml = 'Like what you see? Visit the ' +\n",
              "            '<a target=\"_blank\" href=https://colab.research.google.com/notebooks/data_table.ipynb>data table notebook</a>'\n",
              "            + ' to learn more about interactive tables.';\n",
              "          element.innerHTML = '';\n",
              "          dataTable['output_type'] = 'display_data';\n",
              "          await google.colab.output.renderOutput(dataTable, element);\n",
              "          const docLink = document.createElement('div');\n",
              "          docLink.innerHTML = docLinkHtml;\n",
              "          element.appendChild(docLink);\n",
              "        }\n",
              "      </script>\n",
              "    </div>\n",
              "  </div>\n",
              "  "
            ]
          },
          "metadata": {},
          "execution_count": 417
        }
      ]
    },
    {
      "cell_type": "markdown",
      "source": [
        "Построим диаграммы значения всех признаков, для визуального анализа"
      ],
      "metadata": {
        "id": "eEbdSqvpKvpU"
      }
    },
    {
      "cell_type": "code",
      "source": [
        "df.hist(figsize=(20,20))"
      ],
      "metadata": {
        "colab": {
          "base_uri": "https://localhost:8080/",
          "height": 1000
        },
        "id": "oETU5xB1YutW",
        "outputId": "a81ee347-ccf9-467f-e1fd-aaa3a818631d"
      },
      "execution_count": 418,
      "outputs": [
        {
          "output_type": "execute_result",
          "data": {
            "text/plain": [
              "array([[<matplotlib.axes._subplots.AxesSubplot object at 0x7f530b3dc2e0>,\n",
              "        <matplotlib.axes._subplots.AxesSubplot object at 0x7f530b3a8250>,\n",
              "        <matplotlib.axes._subplots.AxesSubplot object at 0x7f530b34a9a0>,\n",
              "        <matplotlib.axes._subplots.AxesSubplot object at 0x7f530b301160>,\n",
              "        <matplotlib.axes._subplots.AxesSubplot object at 0x7f530b2fa7f0>],\n",
              "       [<matplotlib.axes._subplots.AxesSubplot object at 0x7f530a6f7e50>,\n",
              "        <matplotlib.axes._subplots.AxesSubplot object at 0x7f530a6f7f40>,\n",
              "        <matplotlib.axes._subplots.AxesSubplot object at 0x7f530a738700>,\n",
              "        <matplotlib.axes._subplots.AxesSubplot object at 0x7f530a78f4f0>,\n",
              "        <matplotlib.axes._subplots.AxesSubplot object at 0x7f530a7e9c10>],\n",
              "       [<matplotlib.axes._subplots.AxesSubplot object at 0x7f530a861370>,\n",
              "        <matplotlib.axes._subplots.AxesSubplot object at 0x7f530a835a90>,\n",
              "        <matplotlib.axes._subplots.AxesSubplot object at 0x7f530a81d1f0>,\n",
              "        <matplotlib.axes._subplots.AxesSubplot object at 0x7f530b2d3910>,\n",
              "        <matplotlib.axes._subplots.AxesSubplot object at 0x7f530b27c0d0>],\n",
              "       [<matplotlib.axes._subplots.AxesSubplot object at 0x7f530b2b3790>,\n",
              "        <matplotlib.axes._subplots.AxesSubplot object at 0x7f530b260eb0>,\n",
              "        <matplotlib.axes._subplots.AxesSubplot object at 0x7f530a896610>,\n",
              "        <matplotlib.axes._subplots.AxesSubplot object at 0x7f530a6bfd30>,\n",
              "        <matplotlib.axes._subplots.AxesSubplot object at 0x7f530a677490>],\n",
              "       [<matplotlib.axes._subplots.AxesSubplot object at 0x7f530a6a0bb0>,\n",
              "        <matplotlib.axes._subplots.AxesSubplot object at 0x7f530a659310>,\n",
              "        <matplotlib.axes._subplots.AxesSubplot object at 0x7f530a602a30>,\n",
              "        <matplotlib.axes._subplots.AxesSubplot object at 0x7f530a5bb190>,\n",
              "        <matplotlib.axes._subplots.AxesSubplot object at 0x7f530a5e48b0>],\n",
              "       [<matplotlib.axes._subplots.AxesSubplot object at 0x7f530a58ffd0>,\n",
              "        <matplotlib.axes._subplots.AxesSubplot object at 0x7f530a545730>,\n",
              "        <matplotlib.axes._subplots.AxesSubplot object at 0x7f530a56ee50>,\n",
              "        <matplotlib.axes._subplots.AxesSubplot object at 0x7f530a5275b0>,\n",
              "        <matplotlib.axes._subplots.AxesSubplot object at 0x7f530a4d1c10>]],\n",
              "      dtype=object)"
            ]
          },
          "metadata": {},
          "execution_count": 418
        },
        {
          "output_type": "display_data",
          "data": {
            "text/plain": [
              "<Figure size 1440x1440 with 30 Axes>"
            ],
            "image/png": "[encoded data removed]"
          },
          "metadata": {
            "needs_background": "light"
          }
        }
      ]
    },
    {
      "cell_type": "markdown",
      "source": [
        "Построим тепловую карту корреляции признаков"
      ],
      "metadata": {
        "id": "r43Kdo25LFGV"
      }
    },
    {
      "cell_type": "code",
      "source": [
        "def print_plot():\n",
        "  c_df = train.copy()\n",
        "  plt.figure(figsize=(20,20))\n",
        "  sns.heatmap(c_df.corr(), annot=True, cmap='coolwarm', center = .35)\n",
        "  plt.title('Job Satisfaction Correlation', fontsize=15)\n",
        "  \n",
        "print_plot()"
      ],
      "metadata": {
        "colab": {
          "base_uri": "https://localhost:8080/",
          "height": 920
        },
        "id": "-49JDd5tYurU",
        "outputId": "938cbe0c-fff6-4365-cfc1-e9b0c6de5b95"
      },
      "execution_count": 419,
      "outputs": [
        {
          "output_type": "display_data",
          "data": {
            "text/plain": [
              "<Figure size 1440x1440 with 2 Axes>"
            ],
            "image/png": "[encoded data removed]"
          },
          "metadata": {
            "needs_background": "light"
          }
        }
      ]
    },
    {
      "cell_type": "markdown",
      "source": [
        "Удалим признаки, которые незначительно влияют на предсказание, ввиду наличия в них превалирующего значения (более 90% из всей выборки значений признаков): retire, ownvcr, owntv, owncd\n",
        "\n"
      ],
      "metadata": {
        "id": "-pz8qtBJnF0k"
      }
    },
    {
      "cell_type": "code",
      "source": [
        "df.drop(columns=['retire', 'ownvcr', 'owntv', 'owncd'], inplace=True)"
      ],
      "metadata": {
        "id": "KtYFjagMpS4D"
      },
      "execution_count": 420,
      "outputs": []
    },
    {
      "cell_type": "markdown",
      "source": [
        "Снова проверяем корреляцию"
      ],
      "metadata": {
        "id": "gRB2hSOTLwke"
      }
    },
    {
      "cell_type": "code",
      "source": [
        "df.corr()['jobsat']"
      ],
      "metadata": {
        "colab": {
          "base_uri": "https://localhost:8080/"
        },
        "id": "IjoBnH6isaUE",
        "outputId": "d28a778e-b1b2-4fc4-aedf-fdd8691f5714"
      },
      "execution_count": 421,
      "outputs": [
        {
          "output_type": "execute_result",
          "data": {
            "text/plain": [
              "age         0.334635\n",
              "marital     0.023263\n",
              "address     0.209449\n",
              "income      0.290637\n",
              "inccat      0.356942\n",
              "car         0.357982\n",
              "carcat      0.340359\n",
              "ed         -0.122436\n",
              "employ      0.486361\n",
              "empcat      0.493438\n",
              "jobsat      1.000000\n",
              "gender      0.017437\n",
              "reside     -0.077594\n",
              "wireless   -0.028888\n",
              "multline    0.057484\n",
              "voice       0.116363\n",
              "pager       0.101945\n",
              "internet   -0.024225\n",
              "callid      0.025155\n",
              "callwait    0.046155\n",
              "ownpda     -0.027227\n",
              "ownpc      -0.079781\n",
              "ownfax     -0.022547\n",
              "news       -0.138258\n",
              "response   -0.002577\n",
              "Name: jobsat, dtype: float64"
            ]
          },
          "metadata": {},
          "execution_count": 421
        }
      ]
    },
    {
      "cell_type": "markdown",
      "source": [
        "Удаляем признаки с отрицательной корреляцией"
      ],
      "metadata": {
        "id": "Cl1uehqXL0v7"
      }
    },
    {
      "cell_type": "code",
      "source": [
        "df.drop(columns=['ed', 'reside', 'wireless', 'internet', 'ownpda', 'ownpc', 'ownfax', 'news', 'response'], inplace=True)"
      ],
      "metadata": {
        "id": "t0PIc_-SvsH0"
      },
      "execution_count": 422,
      "outputs": []
    },
    {
      "cell_type": "markdown",
      "source": [
        "3. Разделение данных "
      ],
      "metadata": {
        "id": "2W2I5HO9K4X-"
      }
    },
    {
      "cell_type": "code",
      "source": [
        "train = df.dropna(subset=['jobsat'])\n",
        "train.head()"
      ],
      "metadata": {
        "colab": {
          "base_uri": "https://localhost:8080/",
          "height": 270
        },
        "id": "in7gpgPDYulM",
        "outputId": "a1d5b535-ff0f-4e12-deb7-8875bffa9f78"
      },
      "execution_count": 423,
      "outputs": [
        {
          "output_type": "execute_result",
          "data": {
            "text/plain": [
              "   age  marital  address  income  inccat   car  carcat  employ  empcat  \\\n",
              "0   55        1       12      72       3  36.2       3      23       3   \n",
              "1   56        0       29     153       4  76.9       3      35       3   \n",
              "2   28        1        9      28       2  13.7       1       4       1   \n",
              "3   24        1        4      26       2  12.5       1       0       1   \n",
              "4   25        0        2      23       1  11.3       1       5       2   \n",
              "\n",
              "   jobsat  gender  multline  voice  pager  callid  callwait  \n",
              "0     5.0       0         0      1      0       0         0  \n",
              "1     4.0       1         0      1      1       1         1  \n",
              "2     3.0       0         0      1      0       1         1  \n",
              "3     1.0       1         1      1      0       0         1  \n",
              "4     2.0       1         0      0      0       1         0  "
            ],
            "text/html": [
              "\n",
              "  <div id=\"df-6e791cb9-9ad1-4f22-8194-0c5dcf5ac2b9\">\n",
              "    <div class=\"colab-df-container\">\n",
              "      <div>\n",
              "<style scoped>\n",
              "    .dataframe tbody tr th:only-of-type {\n",
              "        vertical-align: middle;\n",
              "    }\n",
              "\n",
              "    .dataframe tbody tr th {\n",
              "        vertical-align: top;\n",
              "    }\n",
              "\n",
              "    .dataframe thead th {\n",
              "        text-align: right;\n",
              "    }\n",
              "</style>\n",
              "<table border=\"1\" class=\"dataframe\">\n",
              "  <thead>\n",
              "    <tr style=\"text-align: right;\">\n",
              "      <th></th>\n",
              "      <th>age</th>\n",
              "      <th>marital</th>\n",
              "      <th>address</th>\n",
              "      <th>income</th>\n",
              "      <th>inccat</th>\n",
              "      <th>car</th>\n",
              "      <th>carcat</th>\n",
              "      <th>employ</th>\n",
              "      <th>empcat</th>\n",
              "      <th>jobsat</th>\n",
              "      <th>gender</th>\n",
              "      <th>multline</th>\n",
              "      <th>voice</th>\n",
              "      <th>pager</th>\n",
              "      <th>callid</th>\n",
              "      <th>callwait</th>\n",
              "    </tr>\n",
              "  </thead>\n",
              "  <tbody>\n",
              "    <tr>\n",
              "      <th>0</th>\n",
              "      <td>55</td>\n",
              "      <td>1</td>\n",
              "      <td>12</td>\n",
              "      <td>72</td>\n",
              "      <td>3</td>\n",
              "      <td>36.2</td>\n",
              "      <td>3</td>\n",
              "      <td>23</td>\n",
              "      <td>3</td>\n",
              "      <td>5.0</td>\n",
              "      <td>0</td>\n",
              "      <td>0</td>\n",
              "      <td>1</td>\n",
              "      <td>0</td>\n",
              "      <td>0</td>\n",
              "      <td>0</td>\n",
              "    </tr>\n",
              "    <tr>\n",
              "      <th>1</th>\n",
              "      <td>56</td>\n",
              "      <td>0</td>\n",
              "      <td>29</td>\n",
              "      <td>153</td>\n",
              "      <td>4</td>\n",
              "      <td>76.9</td>\n",
              "      <td>3</td>\n",
              "      <td>35</td>\n",
              "      <td>3</td>\n",
              "      <td>4.0</td>\n",
              "      <td>1</td>\n",
              "      <td>0</td>\n",
              "      <td>1</td>\n",
              "      <td>1</td>\n",
              "      <td>1</td>\n",
              "      <td>1</td>\n",
              "    </tr>\n",
              "    <tr>\n",
              "      <th>2</th>\n",
              "      <td>28</td>\n",
              "      <td>1</td>\n",
              "      <td>9</td>\n",
              "      <td>28</td>\n",
              "      <td>2</td>\n",
              "      <td>13.7</td>\n",
              "      <td>1</td>\n",
              "      <td>4</td>\n",
              "      <td>1</td>\n",
              "      <td>3.0</td>\n",
              "      <td>0</td>\n",
              "      <td>0</td>\n",
              "      <td>1</td>\n",
              "      <td>0</td>\n",
              "      <td>1</td>\n",
              "      <td>1</td>\n",
              "    </tr>\n",
              "    <tr>\n",
              "      <th>3</th>\n",
              "      <td>24</td>\n",
              "      <td>1</td>\n",
              "      <td>4</td>\n",
              "      <td>26</td>\n",
              "      <td>2</td>\n",
              "      <td>12.5</td>\n",
              "      <td>1</td>\n",
              "      <td>0</td>\n",
              "      <td>1</td>\n",
              "      <td>1.0</td>\n",
              "      <td>1</td>\n",
              "      <td>1</td>\n",
              "      <td>1</td>\n",
              "      <td>0</td>\n",
              "      <td>0</td>\n",
              "      <td>1</td>\n",
              "    </tr>\n",
              "    <tr>\n",
              "      <th>4</th>\n",
              "      <td>25</td>\n",
              "      <td>0</td>\n",
              "      <td>2</td>\n",
              "      <td>23</td>\n",
              "      <td>1</td>\n",
              "      <td>11.3</td>\n",
              "      <td>1</td>\n",
              "      <td>5</td>\n",
              "      <td>2</td>\n",
              "      <td>2.0</td>\n",
              "      <td>1</td>\n",
              "      <td>0</td>\n",
              "      <td>0</td>\n",
              "      <td>0</td>\n",
              "      <td>1</td>\n",
              "      <td>0</td>\n",
              "    </tr>\n",
              "  </tbody>\n",
              "</table>\n",
              "</div>\n",
              "      <button class=\"colab-df-convert\" onclick=\"convertToInteractive('df-6e791cb9-9ad1-4f22-8194-0c5dcf5ac2b9')\"\n",
              "              title=\"Convert this dataframe to an interactive table.\"\n",
              "              style=\"display:none;\">\n",
              "        \n",
              "  <svg xmlns=\"http://www.w3.org/2000/svg\" height=\"24px\"viewBox=\"0 0 24 24\"\n",
              "       width=\"24px\">\n",
              "    <path d=\"M0 0h24v24H0V0z\" fill=\"none\"/>\n",
              "    <path d=\"M18.56 5.44l.94 2.06.94-2.06 2.06-.94-2.06-.94-.94-2.06-.94 2.06-2.06.94zm-11 1L8.5 8.5l.94-2.06 2.06-.94-2.06-.94L8.5 2.5l-.94 2.06-2.06.94zm10 10l.94 2.06.94-2.06 2.06-.94-2.06-.94-.94-2.06-.94 2.06-2.06.94z\"/><path d=\"M17.41 7.96l-1.37-1.37c-.4-.4-.92-.59-1.43-.59-.52 0-1.04.2-1.43.59L10.3 9.45l-7.72 7.72c-.78.78-.78 2.05 0 2.83L4 21.41c.39.39.9.59 1.41.59.51 0 1.02-.2 1.41-.59l7.78-7.78 2.81-2.81c.8-.78.8-2.07 0-2.86zM5.41 20L4 18.59l7.72-7.72 1.47 1.35L5.41 20z\"/>\n",
              "  </svg>\n",
              "      </button>\n",
              "      \n",
              "  <style>\n",
              "    .colab-df-container {\n",
              "      display:flex;\n",
              "      flex-wrap:wrap;\n",
              "      gap: 12px;\n",
              "    }\n",
              "\n",
              "    .colab-df-convert {\n",
              "      background-color: #E8F0FE;\n",
              "      border: none;\n",
              "      border-radius: 50%;\n",
              "      cursor: pointer;\n",
              "      display: none;\n",
              "      fill: #1967D2;\n",
              "      height: 32px;\n",
              "      padding: 0 0 0 0;\n",
              "      width: 32px;\n",
              "    }\n",
              "\n",
              "    .colab-df-convert:hover {\n",
              "      background-color: #E2EBFA;\n",
              "      box-shadow: 0px 1px 2px rgba(60, 64, 67, 0.3), 0px 1px 3px 1px rgba(60, 64, 67, 0.15);\n",
              "      fill: #174EA6;\n",
              "    }\n",
              "\n",
              "    [theme=dark] .colab-df-convert {\n",
              "      background-color: #3B4455;\n",
              "      fill: #D2E3FC;\n",
              "    }\n",
              "\n",
              "    [theme=dark] .colab-df-convert:hover {\n",
              "      background-color: #434B5C;\n",
              "      box-shadow: 0px 1px 3px 1px rgba(0, 0, 0, 0.15);\n",
              "      filter: drop-shadow(0px 1px 2px rgba(0, 0, 0, 0.3));\n",
              "      fill: #FFFFFF;\n",
              "    }\n",
              "  </style>\n",
              "\n",
              "      <script>\n",
              "        const buttonEl =\n",
              "          document.querySelector('#df-6e791cb9-9ad1-4f22-8194-0c5dcf5ac2b9 button.colab-df-convert');\n",
              "        buttonEl.style.display =\n",
              "          google.colab.kernel.accessAllowed ? 'block' : 'none';\n",
              "\n",
              "        async function convertToInteractive(key) {\n",
              "          const element = document.querySelector('#df-6e791cb9-9ad1-4f22-8194-0c5dcf5ac2b9');\n",
              "          const dataTable =\n",
              "            await google.colab.kernel.invokeFunction('convertToInteractive',\n",
              "                                                     [key], {});\n",
              "          if (!dataTable) return;\n",
              "\n",
              "          const docLinkHtml = 'Like what you see? Visit the ' +\n",
              "            '<a target=\"_blank\" href=https://colab.research.google.com/notebooks/data_table.ipynb>data table notebook</a>'\n",
              "            + ' to learn more about interactive tables.';\n",
              "          element.innerHTML = '';\n",
              "          dataTable['output_type'] = 'display_data';\n",
              "          await google.colab.output.renderOutput(dataTable, element);\n",
              "          const docLink = document.createElement('div');\n",
              "          docLink.innerHTML = docLinkHtml;\n",
              "          element.appendChild(docLink);\n",
              "        }\n",
              "      </script>\n",
              "    </div>\n",
              "  </div>\n",
              "  "
            ]
          },
          "metadata": {},
          "execution_count": 423
        }
      ]
    },
    {
      "cell_type": "code",
      "source": [
        "train.shape"
      ],
      "metadata": {
        "colab": {
          "base_uri": "https://localhost:8080/"
        },
        "id": "bxB5JNIOiT19",
        "outputId": "9ca3d68f-8fee-4145-998f-ee61e9cd1e90"
      },
      "execution_count": 424,
      "outputs": [
        {
          "output_type": "execute_result",
          "data": {
            "text/plain": [
              "(5400, 16)"
            ]
          },
          "metadata": {},
          "execution_count": 424
        }
      ]
    },
    {
      "cell_type": "code",
      "source": [
        "test = df[df.jobsat.isnull()]\n",
        "test.head()"
      ],
      "metadata": {
        "colab": {
          "base_uri": "https://localhost:8080/",
          "height": 270
        },
        "id": "GLyHC4ytYunU",
        "outputId": "1c2a211e-cc7a-4765-a506-de72f57b3732"
      },
      "execution_count": 425,
      "outputs": [
        {
          "output_type": "execute_result",
          "data": {
            "text/plain": [
              "      age  marital  address  income  inccat   car  carcat  employ  empcat  \\\n",
              "5400   66        1       11      10       1   5.0       1       4       1   \n",
              "5401   51        0        8     237       4  72.8       3      27       3   \n",
              "5402   47        0       22     193       4  95.1       3      21       3   \n",
              "5403   55        0       25      86       4  42.1       3      17       3   \n",
              "5404   51        0       10      34       2  17.2       2       3       1   \n",
              "\n",
              "      jobsat  gender  multline  voice  pager  callid  callwait  \n",
              "5400     NaN       1         1      0      0       0         1  \n",
              "5401     NaN       0         1      1      0       0         1  \n",
              "5402     NaN       0         1      1      0       1         0  \n",
              "5403     NaN       0         0      1      1       1         1  \n",
              "5404     NaN       1         0      0      0       0         1  "
            ],
            "text/html": [
              "\n",
              "  <div id=\"df-ac0b0188-10f3-4df4-8b68-58ab17d20dac\">\n",
              "    <div class=\"colab-df-container\">\n",
              "      <div>\n",
              "<style scoped>\n",
              "    .dataframe tbody tr th:only-of-type {\n",
              "        vertical-align: middle;\n",
              "    }\n",
              "\n",
              "    .dataframe tbody tr th {\n",
              "        vertical-align: top;\n",
              "    }\n",
              "\n",
              "    .dataframe thead th {\n",
              "        text-align: right;\n",
              "    }\n",
              "</style>\n",
              "<table border=\"1\" class=\"dataframe\">\n",
              "  <thead>\n",
              "    <tr style=\"text-align: right;\">\n",
              "      <th></th>\n",
              "      <th>age</th>\n",
              "      <th>marital</th>\n",
              "      <th>address</th>\n",
              "      <th>income</th>\n",
              "      <th>inccat</th>\n",
              "      <th>car</th>\n",
              "      <th>carcat</th>\n",
              "      <th>employ</th>\n",
              "      <th>empcat</th>\n",
              "      <th>jobsat</th>\n",
              "      <th>gender</th>\n",
              "      <th>multline</th>\n",
              "      <th>voice</th>\n",
              "      <th>pager</th>\n",
              "      <th>callid</th>\n",
              "      <th>callwait</th>\n",
              "    </tr>\n",
              "  </thead>\n",
              "  <tbody>\n",
              "    <tr>\n",
              "      <th>5400</th>\n",
              "      <td>66</td>\n",
              "      <td>1</td>\n",
              "      <td>11</td>\n",
              "      <td>10</td>\n",
              "      <td>1</td>\n",
              "      <td>5.0</td>\n",
              "      <td>1</td>\n",
              "      <td>4</td>\n",
              "      <td>1</td>\n",
              "      <td>NaN</td>\n",
              "      <td>1</td>\n",
              "      <td>1</td>\n",
              "      <td>0</td>\n",
              "      <td>0</td>\n",
              "      <td>0</td>\n",
              "      <td>1</td>\n",
              "    </tr>\n",
              "    <tr>\n",
              "      <th>5401</th>\n",
              "      <td>51</td>\n",
              "      <td>0</td>\n",
              "      <td>8</td>\n",
              "      <td>237</td>\n",
              "      <td>4</td>\n",
              "      <td>72.8</td>\n",
              "      <td>3</td>\n",
              "      <td>27</td>\n",
              "      <td>3</td>\n",
              "      <td>NaN</td>\n",
              "      <td>0</td>\n",
              "      <td>1</td>\n",
              "      <td>1</td>\n",
              "      <td>0</td>\n",
              "      <td>0</td>\n",
              "      <td>1</td>\n",
              "    </tr>\n",
              "    <tr>\n",
              "      <th>5402</th>\n",
              "      <td>47</td>\n",
              "      <td>0</td>\n",
              "      <td>22</td>\n",
              "      <td>193</td>\n",
              "      <td>4</td>\n",
              "      <td>95.1</td>\n",
              "      <td>3</td>\n",
              "      <td>21</td>\n",
              "      <td>3</td>\n",
              "      <td>NaN</td>\n",
              "      <td>0</td>\n",
              "      <td>1</td>\n",
              "      <td>1</td>\n",
              "      <td>0</td>\n",
              "      <td>1</td>\n",
              "      <td>0</td>\n",
              "    </tr>\n",
              "    <tr>\n",
              "      <th>5403</th>\n",
              "      <td>55</td>\n",
              "      <td>0</td>\n",
              "      <td>25</td>\n",
              "      <td>86</td>\n",
              "      <td>4</td>\n",
              "      <td>42.1</td>\n",
              "      <td>3</td>\n",
              "      <td>17</td>\n",
              "      <td>3</td>\n",
              "      <td>NaN</td>\n",
              "      <td>0</td>\n",
              "      <td>0</td>\n",
              "      <td>1</td>\n",
              "      <td>1</td>\n",
              "      <td>1</td>\n",
              "      <td>1</td>\n",
              "    </tr>\n",
              "    <tr>\n",
              "      <th>5404</th>\n",
              "      <td>51</td>\n",
              "      <td>0</td>\n",
              "      <td>10</td>\n",
              "      <td>34</td>\n",
              "      <td>2</td>\n",
              "      <td>17.2</td>\n",
              "      <td>2</td>\n",
              "      <td>3</td>\n",
              "      <td>1</td>\n",
              "      <td>NaN</td>\n",
              "      <td>1</td>\n",
              "      <td>0</td>\n",
              "      <td>0</td>\n",
              "      <td>0</td>\n",
              "      <td>0</td>\n",
              "      <td>1</td>\n",
              "    </tr>\n",
              "  </tbody>\n",
              "</table>\n",
              "</div>\n",
              "      <button class=\"colab-df-convert\" onclick=\"convertToInteractive('df-ac0b0188-10f3-4df4-8b68-58ab17d20dac')\"\n",
              "              title=\"Convert this dataframe to an interactive table.\"\n",
              "              style=\"display:none;\">\n",
              "        \n",
              "  <svg xmlns=\"http://www.w3.org/2000/svg\" height=\"24px\"viewBox=\"0 0 24 24\"\n",
              "       width=\"24px\">\n",
              "    <path d=\"M0 0h24v24H0V0z\" fill=\"none\"/>\n",
              "    <path d=\"M18.56 5.44l.94 2.06.94-2.06 2.06-.94-2.06-.94-.94-2.06-.94 2.06-2.06.94zm-11 1L8.5 8.5l.94-2.06 2.06-.94-2.06-.94L8.5 2.5l-.94 2.06-2.06.94zm10 10l.94 2.06.94-2.06 2.06-.94-2.06-.94-.94-2.06-.94 2.06-2.06.94z\"/><path d=\"M17.41 7.96l-1.37-1.37c-.4-.4-.92-.59-1.43-.59-.52 0-1.04.2-1.43.59L10.3 9.45l-7.72 7.72c-.78.78-.78 2.05 0 2.83L4 21.41c.39.39.9.59 1.41.59.51 0 1.02-.2 1.41-.59l7.78-7.78 2.81-2.81c.8-.78.8-2.07 0-2.86zM5.41 20L4 18.59l7.72-7.72 1.47 1.35L5.41 20z\"/>\n",
              "  </svg>\n",
              "      </button>\n",
              "      \n",
              "  <style>\n",
              "    .colab-df-container {\n",
              "      display:flex;\n",
              "      flex-wrap:wrap;\n",
              "      gap: 12px;\n",
              "    }\n",
              "\n",
              "    .colab-df-convert {\n",
              "      background-color: #E8F0FE;\n",
              "      border: none;\n",
              "      border-radius: 50%;\n",
              "      cursor: pointer;\n",
              "      display: none;\n",
              "      fill: #1967D2;\n",
              "      height: 32px;\n",
              "      padding: 0 0 0 0;\n",
              "      width: 32px;\n",
              "    }\n",
              "\n",
              "    .colab-df-convert:hover {\n",
              "      background-color: #E2EBFA;\n",
              "      box-shadow: 0px 1px 2px rgba(60, 64, 67, 0.3), 0px 1px 3px 1px rgba(60, 64, 67, 0.15);\n",
              "      fill: #174EA6;\n",
              "    }\n",
              "\n",
              "    [theme=dark] .colab-df-convert {\n",
              "      background-color: #3B4455;\n",
              "      fill: #D2E3FC;\n",
              "    }\n",
              "\n",
              "    [theme=dark] .colab-df-convert:hover {\n",
              "      background-color: #434B5C;\n",
              "      box-shadow: 0px 1px 3px 1px rgba(0, 0, 0, 0.15);\n",
              "      filter: drop-shadow(0px 1px 2px rgba(0, 0, 0, 0.3));\n",
              "      fill: #FFFFFF;\n",
              "    }\n",
              "  </style>\n",
              "\n",
              "      <script>\n",
              "        const buttonEl =\n",
              "          document.querySelector('#df-ac0b0188-10f3-4df4-8b68-58ab17d20dac button.colab-df-convert');\n",
              "        buttonEl.style.display =\n",
              "          google.colab.kernel.accessAllowed ? 'block' : 'none';\n",
              "\n",
              "        async function convertToInteractive(key) {\n",
              "          const element = document.querySelector('#df-ac0b0188-10f3-4df4-8b68-58ab17d20dac');\n",
              "          const dataTable =\n",
              "            await google.colab.kernel.invokeFunction('convertToInteractive',\n",
              "                                                     [key], {});\n",
              "          if (!dataTable) return;\n",
              "\n",
              "          const docLinkHtml = 'Like what you see? Visit the ' +\n",
              "            '<a target=\"_blank\" href=https://colab.research.google.com/notebooks/data_table.ipynb>data table notebook</a>'\n",
              "            + ' to learn more about interactive tables.';\n",
              "          element.innerHTML = '';\n",
              "          dataTable['output_type'] = 'display_data';\n",
              "          await google.colab.output.renderOutput(dataTable, element);\n",
              "          const docLink = document.createElement('div');\n",
              "          docLink.innerHTML = docLinkHtml;\n",
              "          element.appendChild(docLink);\n",
              "        }\n",
              "      </script>\n",
              "    </div>\n",
              "  </div>\n",
              "  "
            ]
          },
          "metadata": {},
          "execution_count": 425
        }
      ]
    },
    {
      "cell_type": "code",
      "source": [
        "test.shape"
      ],
      "metadata": {
        "colab": {
          "base_uri": "https://localhost:8080/"
        },
        "id": "4Dt76Xk6Yupf",
        "outputId": "e4fbf061-c5c1-4d75-b58e-3dfda11366f2"
      },
      "execution_count": 426,
      "outputs": [
        {
          "output_type": "execute_result",
          "data": {
            "text/plain": [
              "(1000, 16)"
            ]
          },
          "metadata": {},
          "execution_count": 426
        }
      ]
    },
    {
      "cell_type": "markdown",
      "source": [
        "4. Обучение"
      ],
      "metadata": {
        "id": "rg8DyIoyMiY3"
      }
    },
    {
      "cell_type": "markdown",
      "source": [
        "Делим наши данные на обучающую и тестовую выборку"
      ],
      "metadata": {
        "id": "kA23bwZML675"
      }
    },
    {
      "cell_type": "code",
      "source": [
        "y = train['jobsat']\n",
        "X = train.drop('jobsat',axis= 1)\n",
        "\n",
        "X_train, X_test, y_train, y_test = train_test_split(\n",
        "    X, y, test_size=0.3, random_state=101)"
      ],
      "metadata": {
        "id": "pRytwVJ6w9Wb"
      },
      "execution_count": 427,
      "outputs": []
    },
    {
      "cell_type": "code",
      "source": [
        "model = LogisticRegression()\n",
        "model.fit(X_train,y_train)"
      ],
      "metadata": {
        "colab": {
          "base_uri": "https://localhost:8080/"
        },
        "id": "qyfnKVOvlt8K",
        "outputId": "c6c3d637-91dc-4cad-c71d-4949e4d33b94"
      },
      "execution_count": 428,
      "outputs": [
        {
          "output_type": "stream",
          "name": "stderr",
          "text": [
            "/usr/local/lib/python3.8/dist-packages/sklearn/linear_model/_logistic.py:814: ConvergenceWarning: lbfgs failed to converge (status=1):\n",
            "STOP: TOTAL NO. of ITERATIONS REACHED LIMIT.\n",
            "\n",
            "Increase the number of iterations (max_iter) or scale the data as shown in:\n",
            "    https://scikit-learn.org/stable/modules/preprocessing.html\n",
            "Please also refer to the documentation for alternative solver options:\n",
            "    https://scikit-learn.org/stable/modules/linear_model.html#logistic-regression\n",
            "  n_iter_i = _check_optimize_result(\n"
          ]
        },
        {
          "output_type": "execute_result",
          "data": {
            "text/plain": [
              "LogisticRegression()"
            ]
          },
          "metadata": {},
          "execution_count": 428
        }
      ]
    },
    {
      "cell_type": "code",
      "source": [
        "predictions = model.predict(X_test)\n",
        "model.score(X_train, y_train)"
      ],
      "metadata": {
        "colab": {
          "base_uri": "https://localhost:8080/"
        },
        "id": "OMmPxcMurUd5",
        "outputId": "3d6f1bec-d498-43de-8ba1-9b220e2dc697"
      },
      "execution_count": 429,
      "outputs": [
        {
          "output_type": "execute_result",
          "data": {
            "text/plain": [
              "0.3457671957671958"
            ]
          },
          "metadata": {},
          "execution_count": 429
        }
      ]
    },
    {
      "cell_type": "markdown",
      "source": [
        "5. Оценка качества построенной модели\n"
      ],
      "metadata": {
        "id": "4Aj9yLBBM3aJ"
      }
    },
    {
      "cell_type": "code",
      "source": [
        "print(\"Коэффициент детерминации (r2-score):\", r2_score(y_test, predictions))\n",
        "print('Cреднеквадратичная ошибка: ', mean_squared_error(y_test, predictions))\n",
        "print(\"F-статистика:\")\n",
        "print(\"F1-score (macro):\", f1_score(y_test, predictions, average='macro'))\n",
        "print(\"F1-score (micro):\", f1_score(y_test, predictions, average='micro'))\n",
        "print(\"F1-score (weighted):\", f1_score(y_test, predictions, average='weighted'))"
      ],
      "metadata": {
        "colab": {
          "base_uri": "https://localhost:8080/"
        },
        "id": "RSm28DMVzUGN",
        "outputId": "49da7ead-06af-40dc-c98a-5989d92c3fad"
      },
      "execution_count": 430,
      "outputs": [
        {
          "output_type": "stream",
          "name": "stdout",
          "text": [
            "Коэффициент детерминации (r2-score): -0.22133695517020402\n",
            "Cреднеквадратичная ошибка:  2.189506172839506\n",
            "F-статистика:\n",
            "F1-score (macro): 0.3166524996431671\n",
            "F1-score (micro): 0.3277777777777778\n",
            "F1-score (weighted): 0.302164989530997\n"
          ]
        }
      ]
    },
    {
      "cell_type": "markdown",
      "source": [
        "6. Предсказание недостающих данных"
      ],
      "metadata": {
        "id": "Ce8UFhk8NePe"
      }
    },
    {
      "cell_type": "code",
      "source": [
        "test = test.drop('jobsat',axis= 1)\n",
        "model.predict(test)"
      ],
      "metadata": {
        "colab": {
          "base_uri": "https://localhost:8080/"
        },
        "id": "5ks41UuFHR7n",
        "outputId": "f07fb84e-3ef9-4948-eb4b-ed78669bda6e"
      },
      "execution_count": 431,
      "outputs": [
        {
          "output_type": "execute_result",
          "data": {
            "text/plain": [
              "array([2., 5., 5., 4., 1., 1., 1., 4., 1., 5., 1., 5., 4., 1., 5., 2., 1.,\n",
              "       1., 1., 3., 5., 5., 1., 4., 2., 1., 1., 5., 1., 1., 5., 4., 3., 5.,\n",
              "       2., 1., 5., 4., 4., 3., 3., 4., 2., 5., 5., 2., 4., 5., 4., 5., 2.,\n",
              "       5., 3., 1., 1., 5., 2., 1., 1., 1., 1., 1., 1., 1., 4., 1., 1., 1.,\n",
              "       4., 5., 5., 2., 2., 5., 1., 5., 1., 5., 1., 3., 5., 4., 2., 1., 2.,\n",
              "       3., 5., 4., 1., 5., 2., 1., 4., 3., 4., 3., 1., 1., 1., 1., 3., 1.,\n",
              "       1., 2., 1., 1., 5., 2., 1., 1., 2., 3., 1., 1., 1., 2., 1., 5., 3.,\n",
              "       4., 5., 5., 4., 1., 1., 4., 1., 5., 2., 5., 4., 2., 5., 4., 5., 4.,\n",
              "       1., 1., 4., 4., 5., 5., 1., 2., 2., 4., 4., 5., 1., 1., 4., 2., 1.,\n",
              "       1., 2., 5., 5., 3., 5., 3., 5., 3., 5., 1., 5., 1., 1., 5., 1., 1.,\n",
              "       1., 4., 4., 5., 5., 1., 1., 5., 1., 1., 3., 5., 1., 5., 1., 4., 1.,\n",
              "       5., 4., 3., 1., 5., 1., 4., 2., 1., 5., 1., 1., 1., 2., 5., 1., 1.,\n",
              "       1., 5., 5., 5., 3., 2., 4., 1., 1., 4., 3., 5., 3., 5., 1., 1., 5.,\n",
              "       3., 2., 3., 1., 2., 1., 3., 2., 2., 3., 1., 1., 1., 2., 5., 1., 2.,\n",
              "       2., 3., 5., 2., 1., 3., 5., 1., 1., 3., 5., 1., 5., 5., 2., 1., 2.,\n",
              "       2., 3., 5., 1., 5., 1., 1., 4., 1., 1., 3., 4., 1., 5., 5., 1., 1.,\n",
              "       1., 3., 5., 3., 1., 5., 1., 2., 1., 5., 1., 2., 1., 3., 4., 4., 1.,\n",
              "       1., 2., 3., 1., 4., 3., 5., 3., 1., 5., 3., 5., 2., 4., 5., 4., 3.,\n",
              "       5., 1., 5., 1., 3., 3., 4., 5., 3., 4., 5., 3., 3., 3., 3., 1., 1.,\n",
              "       1., 3., 2., 3., 4., 5., 2., 5., 1., 3., 2., 5., 1., 3., 3., 2., 5.,\n",
              "       5., 5., 5., 4., 3., 4., 3., 2., 4., 4., 1., 1., 1., 1., 1., 1., 4.,\n",
              "       3., 2., 2., 3., 4., 2., 5., 3., 1., 1., 1., 3., 5., 1., 1., 1., 2.,\n",
              "       1., 3., 3., 5., 4., 5., 2., 4., 5., 4., 5., 3., 4., 1., 4., 4., 5.,\n",
              "       1., 4., 4., 1., 3., 3., 4., 2., 2., 1., 4., 4., 5., 5., 5., 4., 1.,\n",
              "       1., 1., 5., 1., 4., 2., 3., 5., 2., 4., 4., 3., 4., 5., 4., 5., 4.,\n",
              "       4., 4., 5., 3., 3., 3., 5., 3., 4., 1., 4., 1., 2., 2., 5., 1., 2.,\n",
              "       1., 1., 5., 3., 4., 1., 1., 1., 1., 1., 1., 3., 5., 2., 2., 5., 3.,\n",
              "       3., 5., 3., 2., 3., 4., 3., 5., 3., 4., 1., 5., 5., 2., 1., 4., 3.,\n",
              "       2., 3., 1., 1., 5., 1., 4., 2., 1., 1., 1., 1., 1., 1., 5., 3., 3.,\n",
              "       1., 1., 2., 5., 3., 5., 1., 5., 2., 1., 2., 5., 5., 4., 1., 2., 5.,\n",
              "       4., 4., 1., 1., 5., 1., 4., 3., 3., 3., 2., 1., 1., 5., 3., 5., 1.,\n",
              "       3., 1., 1., 5., 5., 5., 2., 1., 1., 2., 1., 4., 5., 5., 2., 1., 5.,\n",
              "       5., 1., 1., 5., 1., 4., 5., 4., 4., 1., 5., 3., 1., 4., 1., 1., 5.,\n",
              "       1., 2., 1., 1., 2., 5., 5., 1., 1., 5., 5., 5., 3., 4., 4., 1., 1.,\n",
              "       1., 5., 1., 5., 1., 1., 4., 5., 3., 3., 1., 4., 5., 1., 5., 5., 1.,\n",
              "       4., 4., 4., 1., 5., 1., 4., 1., 3., 1., 1., 2., 5., 1., 1., 1., 4.,\n",
              "       1., 1., 2., 1., 5., 1., 1., 5., 1., 3., 1., 2., 1., 5., 5., 5., 5.,\n",
              "       5., 4., 3., 4., 5., 1., 5., 2., 5., 1., 1., 5., 5., 4., 1., 1., 5.,\n",
              "       5., 2., 4., 1., 5., 1., 1., 4., 1., 5., 3., 5., 1., 5., 3., 4., 1.,\n",
              "       3., 2., 1., 3., 1., 4., 1., 4., 3., 4., 5., 2., 4., 3., 1., 1., 1.,\n",
              "       3., 1., 1., 3., 5., 4., 5., 1., 4., 2., 2., 4., 3., 4., 5., 5., 1.,\n",
              "       1., 3., 5., 3., 3., 2., 4., 1., 4., 5., 1., 2., 4., 1., 4., 4., 3.,\n",
              "       4., 1., 1., 5., 4., 5., 4., 2., 2., 1., 5., 2., 4., 2., 3., 1., 5.,\n",
              "       1., 4., 1., 4., 1., 4., 1., 1., 3., 4., 1., 5., 1., 2., 3., 5., 5.,\n",
              "       5., 2., 4., 5., 5., 5., 3., 1., 1., 5., 2., 4., 5., 4., 3., 1., 1.,\n",
              "       1., 1., 1., 1., 2., 5., 3., 5., 5., 1., 5., 1., 3., 1., 5., 4., 4.,\n",
              "       4., 5., 5., 1., 3., 1., 5., 3., 5., 4., 2., 1., 3., 5., 5., 5., 1.,\n",
              "       4., 5., 5., 1., 1., 5., 1., 3., 1., 1., 5., 3., 1., 4., 5., 2., 2.,\n",
              "       1., 2., 3., 4., 5., 3., 2., 1., 3., 5., 4., 5., 1., 1., 2., 2., 4.,\n",
              "       4., 4., 1., 1., 5., 2., 3., 4., 1., 2., 1., 3., 2., 1., 3., 1., 5.,\n",
              "       5., 1., 4., 1., 1., 2., 4., 3., 4., 2., 1., 2., 5., 4., 1., 1., 1.,\n",
              "       1., 1., 1., 1., 3., 4., 3., 4., 1., 1., 2., 3., 3., 1., 4., 3., 2.,\n",
              "       2., 2., 4., 4., 1., 4., 3., 5., 1., 3., 2., 3., 1., 5., 3., 5., 1.,\n",
              "       5., 5., 1., 5., 2., 1., 1., 3., 1., 1., 1., 5., 2., 4., 1., 1., 1.,\n",
              "       2., 2., 5., 2., 1., 2., 4., 3., 1., 5., 4., 1., 1., 1., 5., 3., 1.,\n",
              "       4., 2., 5., 4., 1., 2., 1., 5., 3., 4., 3., 1., 1., 4., 1., 2., 3.,\n",
              "       4., 1., 2., 4., 1., 1., 5., 1., 1., 1., 4., 1., 5., 5., 4., 4., 1.,\n",
              "       4., 3., 5., 3., 5., 5., 1., 1., 2., 3., 1., 5., 5., 1., 5., 4., 1.,\n",
              "       3., 4., 1., 4., 1., 5., 4., 4., 5., 1., 1., 4., 5., 1.])"
            ]
          },
          "metadata": {},
          "execution_count": 431
        }
      ]
    },
    {
      "cell_type": "code",
      "source": [],
      "metadata": {
        "id": "vQ_J1rp6JWU7"
      },
      "execution_count": 431,
      "outputs": []
    }
  ]
}